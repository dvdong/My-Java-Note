{
 "cells": [
  {
   "cell_type": "markdown",
   "metadata": {},
   "source": [
    "<center><font size=5>第21章 集合和映射表</font></center>"
   ]
  },
  {
   "cell_type": "markdown",
   "metadata": {},
   "source": [
    "<font color='dd0000'>**集合(set)**</font>是一个用于存储和处理<font color='dd0000'>无重复元素</font>的高效数据结构\n",
    "\n",
    "<font color='dd0000'>**映射表(map)**</font>类似于目录，提供了使用键值快速查询和获取值的功能"
   ]
  },
  {
   "cell_type": "markdown",
   "metadata": {},
   "source": [
    "<center><font size=4>21.2 集合</font></center>"
   ]
  },
  {
   "cell_type": "markdown",
   "metadata": {},
   "source": [
    "可以使用集合的三个具体类```HashSet```、```LinkedHashSet```、```TreeSet```来创建集合"
   ]
  },
  {
   "cell_type": "markdown",
   "metadata": {},
   "source": [
    "![](Set.png)"
   ]
  },
  {
   "cell_type": "markdown",
   "metadata": {},
   "source": [
    "<center><font size=3>21.2.1  HashSet"
   ]
  },
  {
   "cell_type": "markdown",
   "metadata": {},
   "source": [
    "```HashSet(int initialCapacity, float loadFactor)```构造方法中，initialCapacity是容量，loadFactor是<font color='dd0000'>负载系数</font>。\n",
    "\n",
    "负载系数表示，当元素个数超过【容量与负载系数的乘积】时，容量就会自动翻倍\n",
    "\n",
    "较高的负载系数会降低空间开销，但是会增加查找时间\n",
    "\n",
    "<font color='dd0000'>HashSet类</font>可以用来存储互不相同的任何元素。考虑到效率的因素，添加到散列集中的对象必须以一种正确分散散列码的方式来实现hashCode方法，避免太多不相等的对象有相同的散列码\n",
    "\n",
    "**HashSet内部是通过HashMap来实现的**"
   ]
  },
  {
   "cell_type": "code",
   "execution_count": 2,
   "metadata": {},
   "outputs": [
    {
     "name": "stdout",
     "output_type": "stream",
     "text": [
      "[San Francisco, Beijing, New York, London, Paris]\n",
      "San Francisco Beijing New York London Paris "
     ]
    }
   ],
   "source": [
    "Set<String> set = new HashSet<>();\n",
    "set.add(\"London\");\n",
    "set.add(\"Paris\");\n",
    "set.add(\"New York\");\n",
    "set.add(\"San Francisco\");\n",
    "set.add(\"Beijing\");\n",
    "set.add(\"New York\");\n",
    "\n",
    "System.out.println(set);\n",
    "\n",
    "for(String s : set){\n",
    "    System.out.print(s + \" \");\n",
    "}"
   ]
  },
  {
   "cell_type": "markdown",
   "metadata": {},
   "source": [
    "存入set的字符串没有按照被插入的顺序存储，因为散列集中的元素是无序的。若要强加顺序，则需要使用LinkedHashSet类\n",
    "\n",
    "因为Set接口继承自Collection接口，Collection接口继承了Iterable接口，所以HashSet类可以用foreach循环进行遍历"
   ]
  },
  {
   "cell_type": "markdown",
   "metadata": {},
   "source": [
    "<center><font size=3>21.2.2  LinkedHashSet"
   ]
  },
  {
   "cell_type": "markdown",
   "metadata": {},
   "source": [
    "LinkedHashSet用一个链表实现来扩展HashSet类，支持对结合内的元素排序。\n",
    "\n",
    "HashSet中的元素是没有被排序的，而LinkedHashSet中的元素可以按照它们插入集合的顺序提取。"
   ]
  },
  {
   "cell_type": "code",
   "execution_count": 3,
   "metadata": {},
   "outputs": [
    {
     "name": "stdout",
     "output_type": "stream",
     "text": [
      "[London, Paris, New York, San Francisco, Beijing]\n"
     ]
    }
   ],
   "source": [
    "Set<String> set = new LinkedHashSet<>();\n",
    "set.add(\"London\");\n",
    "set.add(\"Paris\");\n",
    "set.add(\"New York\");\n",
    "set.add(\"San Francisco\");\n",
    "set.add(\"Beijing\");\n",
    "set.add(\"New York\");\n",
    "\n",
    "System.out.println(set);"
   ]
  },
  {
   "cell_type": "markdown",
   "metadata": {},
   "source": [
    "LinkedHashSet按照元素插入的顺序输出，若要强加一个不同的顺序(如升序或降序)，则应使用**TreeSet**类\n",
    "\n",
    "<font color='dd0000'>如果不需要维护元素插入的顺序，就应该使用HashSet，这样效率更高</font>"
   ]
  },
  {
   "cell_type": "markdown",
   "metadata": {},
   "source": [
    "<center><font size=3>21.2.3  TreeSet"
   ]
  },
  {
   "cell_type": "markdown",
   "metadata": {},
   "source": [
    "**①**<font color='dd0000'>接口SortedSet</font>是Set的一个子接口，它可以确保集合中的元素是有序的，它提供方法：\n",
    "\n",
    "```first()```和```last()```返回集合中的第一个元素和最后一个元素\n",
    "\n",
    "```headSet(toElement)```和```tailSet(fromElement)```返回集合中元素小于toElement和大于等于fromElement的那一部分子集"
   ]
  },
  {
   "cell_type": "markdown",
   "metadata": {},
   "source": [
    "**②**<font color='dd0000'>接口NavigableSet</font>扩展了<font color='dd0000'>SortedSet</font>，提供导航方法：\n",
    "\n",
    "```lower(e)``` ```floor(e)``` ```ceiling(e)``` ```higher(e)```以分别返回小于、小于等于、大于等于、大于一个值(**不一定是集合内的元素**)的元素，如果没有则返回```null```\n",
    "\n",
    "```pollFirst()```和```pollLast()```分别删除并返回树形集(TreeSet)的第一个元素和最后一个元素"
   ]
  },
  {
   "cell_type": "markdown",
   "metadata": {},
   "source": [
    "**③**<font color='dd0000'>类TreeSet</font>实现了SortedSet接口。<font color='dd0000'>只要对象是可以相互比较的，就可以将它们添加到树形集中</font>\n",
    "\n",
    "如果使用无参构造方法创建一个TreeSet，则会假定添加元素的类实现了Comparable接口并使用compareTo方法来比较排序，要使用比较器Comparator，则需要使用构造方法```TreeSet(Comparator comparator)```，使用该比较器中的compare方法来比较排序"
   ]
  },
  {
   "cell_type": "markdown",
   "metadata": {},
   "source": [
    "<center><font size=4>21.3 比较集合和线性表的性能</font></center>"
   ]
  },
  {
   "cell_type": "markdown",
   "metadata": {},
   "source": [
    "在无重复元素进行排序方面，集合比线性表更加高效。线性表通过索引来访问元素方面非常有用。\n",
    "\n",
    "线性表中的元素可以通过索引来访问，集合不支持索引，所以要遍历集合中的所有元素，必须使用foreach循环。"
   ]
  },
  {
   "cell_type": "markdown",
   "metadata": {},
   "source": [
    "<font color='dd0000'>在测试一个元素是否在集合或者线性表方面，集合比线性表更高效</font>"
   ]
  },
  {
   "cell_type": "markdown",
   "metadata": {},
   "source": [
    "<center><font size=4>21.5 映射表</font></center>"
   ]
  },
  {
   "cell_type": "markdown",
   "metadata": {},
   "source": [
    "可以用三个<font color='dd0000'>具体类</font>来创建一个映射表：```HashMap```、```LinkedHashMap```、```TreeMap```"
   ]
  },
  {
   "cell_type": "markdown",
   "metadata": {},
   "source": [
    "<font color='dd0000'>映射表(map)</font>是一种依照**键-值对**存储元素的容器\n",
    "\n",
    "它提供了快速**获取、删除和更新键-值对**的功能\n",
    "\n",
    "映射表将键和值一起保存，键很像下标，在List中，下标是整数，而在Map中，键可以是**任意类型的对象**\n",
    "\n",
    "映射表中**不能**有重复的键，每个键都对应一个值，一个键和它的对应值构成一个条目保存在映射表中"
   ]
  },
  {
   "cell_type": "markdown",
   "metadata": {},
   "source": [
    "<font color='dd0000'>Map</font>的类型有三种：散列映射表```HashMap```、链式散列映射表```LinkedHashMap```、树形映射表```TreeMap```\n",
    "\n",
    "这些映射表的通用特性都定义在<font color='dd0000'>Map接口</font>中："
   ]
  },
  {
   "cell_type": "markdown",
   "metadata": {},
   "source": [
    "![](Map.png)"
   ]
  },
  {
   "cell_type": "markdown",
   "metadata": {},
   "source": [
    "![](MapMethod.png)"
   ]
  },
  {
   "cell_type": "markdown",
   "metadata": {},
   "source": [
    "```put(K key, V value)```:如果原来就包含该键的条目，则更新value，并且返回<font color='dd0000'>原来的value</font>\n",
    "\n",
    "```keySet()```:返回<font color='dd0000'>键</font>的Set\n",
    "\n",
    "```values()```:返回<font color='dd0000'>值</font>的Collection\n",
    "\n",
    "```entrySet()```:返回一个所有条目的Set，这些条目是```Map.Entry<K,V>```接口的实例，Entry是Map接口的一个**内部接口**，即该Set的元素的类型是<font color='dd0000'>Map.Entry<K,V></font>，每个元素即映射表中的一个键-值对"
   ]
  },
  {
   "cell_type": "markdown",
   "metadata": {},
   "source": [
    "![](MapEntry.png)"
   ]
  },
  {
   "cell_type": "markdown",
   "metadata": {},
   "source": [
    "```AbstractMap```是一个便利类，实现了Map接口中entrySet()以外的所有方法"
   ]
  },
  {
   "cell_type": "markdown",
   "metadata": {},
   "source": [
    "```HashMap```、```LinkedHashMap```、```TreeMap```是Map接口的三个**具体实现**"
   ]
  },
  {
   "cell_type": "markdown",
   "metadata": {},
   "source": [
    "![](HashMaps.png)"
   ]
  },
  {
   "cell_type": "markdown",
   "metadata": {},
   "source": [
    "**①**<font color='dd0000'>HashMap</font>：HashMap的条目是**无序**的，对于**定位、插入、删除**一个条目而言，是高效的"
   ]
  },
  {
   "cell_type": "markdown",
   "metadata": {},
   "source": [
    "**②**<font color='dd0000'>LinkedHashMap</font>：用链表实现来扩展HashMap类，支持映射表中条目的排序。\n",
    "\n",
    "无参构造方法```LinkedHashMap()```以插入映射表的顺序(<font color='dd0000'>插入顺序</font>)排序来构建对象，构造方法```LinkedHashMap(initialCaparity, loadFactor, true)```以最后一次访问时的顺序(<font color='dd0000'>访问顺序</font>)，按最早到最晚排序来构建对象"
   ]
  },
  {
   "cell_type": "markdown",
   "metadata": {},
   "source": [
    "**③**<font color='dd0000'>TreeMap</font>：在遍历排好序的键时是高效的。根据构造方法，使用Comparable或者Comparator来对元素排序\n",
    "\n",
    "```firstKey()```和```lastKey()```返回映射表中的第一个**键**和最后一个**键**\n",
    "\n",
    "```headMap(toKey)```和```tailMap(fromKey)```返回映射表中**键**小于toKey和大于等于fromKey的那一部分子映射表"
   ]
  },
  {
   "cell_type": "markdown",
   "metadata": {},
   "source": [
    "```lowerKey(key)```、```floorKey(key)```、```ceilingKey(key)```、```higherKey(key)```分别返回小于、小于等于、大于等于、大于某个给定键(**不一定是表内的键**)的键，如果没有则返回```null```\n",
    "\n",
    "```pollFirstEntry()```和```pollLastEntry()```分别删除并返回TreeMap中的第一个和最后一个条目\n"
   ]
  },
  {
   "cell_type": "code",
   "execution_count": 1,
   "metadata": {},
   "outputs": [
    {
     "name": "stdout",
     "output_type": "stream",
     "text": [
      "{123=Steve Yao, 111=George Smith, 222=Steve Yao}\n",
      "{111=George Smith, 123=Steve Yao, 222=Steve Yao}\n"
     ]
    }
   ],
   "source": [
    "Map<String,String> map = new LinkedHashMap<>();\n",
    "map.put(\"123\", \"John Smith\");\n",
    "map.put(\"111\", \"George Smith\");\n",
    "map.put(\"123\", \"Steve Yao\");\n",
    "map.put(\"222\", \"Steve Yao\");\n",
    "\n",
    "System.out.println(map);\n",
    "System.out.println(new TreeMap<String, String>(map));"
   ]
  },
  {
   "cell_type": "markdown",
   "metadata": {},
   "source": [
    "<font color='dd0000'>注意：</font>key为\"123\"的条目虽然进行了修改，但插入顺序排在前面"
   ]
  },
  {
   "cell_type": "markdown",
   "metadata": {},
   "source": [
    "<center><font size=4>21.7 单元素与不可变的合集和映射表</font></center>"
   ]
  },
  {
   "cell_type": "markdown",
   "metadata": {},
   "source": [
    "<font color='dd0000'>**Collections类**</font>包含了用于创建**不可修改的单元素的**集合、线性表和映射表的方法，以及用于创建**只读**集合、线性表和映射表的方法"
   ]
  },
  {
   "cell_type": "markdown",
   "metadata": {},
   "source": [
    "![](CollectionsUnmodifiable.png)"
   ]
  },
  {
   "cell_type": "markdown",
   "metadata": {},
   "source": [
    "Collections类中定义了三个**常量**：一个表示空的集合```EMPTY_SET```，一个表示空线性表```EMPTY_LIST```，一个表示空映射表```EMPTY_MAP```。<font color='dd0000'>这些合集是不可修改的。</font>"
   ]
  }
 ],
 "metadata": {
  "kernelspec": {
   "display_name": "Java",
   "language": "java",
   "name": "java"
  },
  "language_info": {
   "codemirror_mode": "java",
   "file_extension": ".jshell",
   "mimetype": "text/x-java-source",
   "name": "Java",
   "pygments_lexer": "java",
   "version": "12.0.2+10"
  }
 },
 "nbformat": 4,
 "nbformat_minor": 2
}
