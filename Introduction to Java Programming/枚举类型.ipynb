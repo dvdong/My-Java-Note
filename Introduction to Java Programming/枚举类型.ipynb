{
 "cells": [
  {
   "cell_type": "markdown",
   "metadata": {},
   "source": [
    "<center><font size=5>枚举类型</font></center>"
   ]
  },
  {
   "cell_type": "markdown",
   "metadata": {},
   "source": [
    "### 1. 简单枚举类型"
   ]
  },
  {
   "cell_type": "markdown",
   "metadata": {},
   "source": [
    "枚举类型定义了一个枚举值的*列表*，每个值是一个*标识符*。\n",
    "\n",
    "枚举类型的<font color='dd0000'>值</font>类似于一个常量，因此按照惯例都用大写字母表示；枚举类型的<font color='dd0000'>命名</font>类似一个类，每个单词首字母大写。\n",
    "\n",
    "一个枚举类型的变量可以具有定义在该枚举类型中的一个值或者```null```，不能具有其他值。\n",
    "\n",
    "Java的枚举类型是<font color='dd0000'>类型安全</font>的，当试图赋一个枚举类型所列出的值或```null```以外的值时，会导致编译错误。\n",
    "\n",
    "可通过```EnumeratedTypeName.valueName```访问列表中的值，通过**类型**访问而不是该类型的变量访问。\n",
    "\n",
    "枚举类型被看作一个特殊的类，因此枚举类型的变量是引用类型，继承了```Object```类和```Comparable```接口。"
   ]
  },
  {
   "cell_type": "code",
   "execution_count": 1,
   "metadata": {},
   "outputs": [
    {
     "name": "stdout",
     "output_type": "stream",
     "text": [
      "day1's name: FRIDAY\n",
      "day2's name: MONDAY\n",
      "day1's ordinal: 5\n",
      "day2's ordinal: 1\n",
      "day1.equals(day2):  false\n",
      "day1.toString():  FRIDAY\n",
      "day1.compareTo(day2):  4\n"
     ]
    }
   ],
   "source": [
    "// 声明一个枚举类型(类似一个类)\n",
    "static enum Day {\n",
    "    SUNDAY, MONDAY, TUESDAY, WEDNESDAY, THURSDAY, FRIDAY, SATURDAY\n",
    "} \n",
    "\n",
    "// 声明该类型的变量\n",
    "Day day1 = Day.FRIDAY;\n",
    "Day day2 = Day.MONDAY;\n",
    "\n",
    "//  方法 name() 返回对象的名字\n",
    "System.out.println(\"day1's name: \" + day1.name());\n",
    "System.out.println(\"day2's name: \" + day2.name());\n",
    "\n",
    "// 方法 ordinal() 返回和枚举值关联的序号\n",
    "System.out.println(\"day1's ordinal: \" + day1.ordinal());\n",
    "System.out.println(\"day2's ordinal: \" + day2.ordinal());\n",
    "\n",
    "// 枚举类型继承了 Object类和Comparable接口，因此具有Object类的所有方法和compareTo()方法\n",
    "System.out.println(\"day1.equals(day2):  \" + day1.equals(day2));  // 当两个参数具有同样的序号数时，equals()返回true\n",
    "System.out.println(\"day1.toString():  \" + day1.toString());\n",
    "System.out.println(\"day1.compareTo(day2):  \" + day1.compareTo(day2));  // 返回两个参数序号数之间的差距"
   ]
  },
  {
   "cell_type": "markdown",
   "metadata": {},
   "source": [
    "枚举类型可以在一个类中定义，将被作为**内部类**对待；也可以单独定义，被当作一个独立的类对待\n",
    "\n",
    "<font color='dd0000'>当枚举类型在一个类中声明时，类型必须声明为类的一个成员，而不能在一个方法中声明，而且类型总是```static```的</font>"
   ]
  },
  {
   "cell_type": "markdown",
   "metadata": {},
   "source": [
    ">**使用枚举值(例如：```Day.MONDAY```, ```Day.TUESDAY```等)而不是字面量整数值(例如：0, 1, 等)可以让程序更加易于阅读和维护**"
   ]
  },
  {
   "cell_type": "markdown",
   "metadata": {},
   "source": [
    "### 2. 通过枚举变量使用 if 或者 switch 语句"
   ]
  },
  {
   "cell_type": "code",
   "execution_count": 13,
   "metadata": {},
   "outputs": [
    {
     "ename": "CompilationException",
     "evalue": "",
     "output_type": "error",
     "traceback": [
      "\u001b[1m\u001b[30m|   \u001b[1m\u001b[30m\u001b[0m\u001b[1m\u001b[30m\u001b[41m\u001b[0m\u001b[1m\u001b[30mswitch(day){\u001b[0m",
      "\u001b[1m\u001b[31mswitch 表达式 是预览功能，默认情况下禁用。\u001b[0m",
      "\u001b[1m\u001b[31m  （请使用 --enable-preview 以启用 switch 表达式）\u001b[0m",
      ""
     ]
    }
   ],
   "source": [
    "Day day = Day.WEDNESDAY;\n",
    "\n",
    "switch(day){\n",
    "    case MONDAY:\n",
    "        System.out.println(1);\n",
    "        break;\n",
    "    case WEDNESDAY:\n",
    "        System.out.println(3);\n",
    "}"
   ]
  },
  {
   "cell_type": "markdown",
   "metadata": {},
   "source": [
    "### 3. 使用 foreach 循环处理枚举值"
   ]
  },
  {
   "cell_type": "markdown",
   "metadata": {},
   "source": [
    "每个枚举类型都有一个静态方法```value()```，可以返回这个类型中所有的枚举值到一个数组中"
   ]
  },
  {
   "cell_type": "code",
   "execution_count": 7,
   "metadata": {
    "scrolled": true
   },
   "outputs": [
    {
     "name": "stdout",
     "output_type": "stream",
     "text": [
      "SUNDAY\n",
      "MONDAY\n",
      "TUESDAY\n",
      "WEDNESDAY\n",
      "THURSDAY\n",
      "FRIDAY\n",
      "SATURDAY\n"
     ]
    }
   ],
   "source": [
    "Day[] days = Day.values();\n",
    "\n",
    "for(Day day: days){\n",
    "    System.out.println(day);\n",
    "}"
   ]
  },
  {
   "cell_type": "markdown",
   "metadata": {},
   "source": [
    "### 4. 具有数据域， 构造方法和方法的枚举类型"
   ]
  },
  {
   "cell_type": "code",
   "execution_count": 15,
   "metadata": {},
   "outputs": [],
   "source": [
    "public enum TrafficLight{\n",
    "    RED(\"Please stop\"), GREEN(\"Please go\"), YELLOW(\"Please caution\");\n",
    "    \n",
    "    private String description;\n",
    "    \n",
    "    private TrafficLight(String description){\n",
    "        this.description = description;\n",
    "    }\n",
    "    \n",
    "    public String getDescription(){\n",
    "        return description;\n",
    "    }\n",
    "}"
   ]
  },
  {
   "cell_type": "markdown",
   "metadata": {},
   "source": [
    "第2行定义枚举值，值的声明必须是类型声明的第一条语句\n",
    "\n",
    "第4行声明一个名为```description```的数据域，它描述了一个枚举值\n",
    "\n",
    "第6行是构造方法，<font color='dd0000'>当访问枚举值时，构造方法将被调用，枚举值的参数传递给构造方法"
   ]
  },
  {
   "cell_type": "code",
   "execution_count": 18,
   "metadata": {},
   "outputs": [
    {
     "name": "stdout",
     "output_type": "stream",
     "text": [
      "Please stop\n"
     ]
    }
   ],
   "source": [
    "TrafficLight light = TrafficLight.RED;  // 访问TrafficLight.RED时，将使用参数\"Please stop\"调用构造方法\n",
    "System.out.println(light.getDescription());"
   ]
  },
  {
   "cell_type": "markdown",
   "metadata": {},
   "source": [
    "<font color='dd0000'>Java语法要求枚举类型的构造方法是私有的，避免被直接调用。省略修饰符时默认为私有。"
   ]
  }
 ],
 "metadata": {
  "kernelspec": {
   "display_name": "Java",
   "language": "java",
   "name": "java"
  },
  "language_info": {
   "codemirror_mode": "java",
   "file_extension": ".jshell",
   "mimetype": "text/x-java-source",
   "name": "Java",
   "pygments_lexer": "java",
   "version": "12.0.2+10"
  }
 },
 "nbformat": 4,
 "nbformat_minor": 2
}
