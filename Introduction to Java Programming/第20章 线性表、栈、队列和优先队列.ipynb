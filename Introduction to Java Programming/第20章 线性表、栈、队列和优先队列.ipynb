{
 "cells": [
  {
   "cell_type": "markdown",
   "metadata": {},
   "source": [
    "<center><font size=5>第20章 线性表、栈、队列和优先队列</font></center>"
   ]
  },
  {
   "cell_type": "markdown",
   "metadata": {},
   "source": [
    "在面向对象思想里，一种数据结构也被认为是一个**容器**或者**容器对象**，它是一个能存储其他对象的对象。\n",
    "\n",
    "Java提供了各种组织和操作数据的数据结构，这些数据结构通常称为**Java合集框架(Java Collections Framework)**，主要包括<font color='dd0000'>线性表、向量、栈、队列、优先队列、集合(set)</font> 和 <font color='dd0000'>映射表(map)</font>。\n",
    "\n",
    "这些数据结构的实现将在24-27章讨论。"
   ]
  },
  {
   "cell_type": "markdown",
   "metadata": {},
   "source": [
    "<center><font size=4>20.2 合集</font></center>"
   ]
  },
  {
   "cell_type": "markdown",
   "metadata": {},
   "source": [
    "<font color='dd0000'>Collection接口</font>为**线性表、向量、栈、队列、优先队列、集合(set)**定义了共同的操作。"
   ]
  },
  {
   "cell_type": "markdown",
   "metadata": {},
   "source": [
    "![](Collection.png)"
   ]
  },
  {
   "cell_type": "markdown",
   "metadata": {},
   "source": [
    "Collection接口的方法："
   ]
  },
  {
   "cell_type": "markdown",
   "metadata": {},
   "source": [
    "![](MethodofCollection.png)"
   ]
  },
  {
   "cell_type": "markdown",
   "metadata": {},
   "source": [
    "<font color='dd0000'>**?**</font> Collection接口中的有些方法是不能在具体子类中实现的"
   ]
  },
  {
   "cell_type": "markdown",
   "metadata": {},
   "source": [
    "<center><font size=4>20.3 迭代器</font></center>"
   ]
  },
  {
   "cell_type": "markdown",
   "metadata": {},
   "source": [
    "每种合集都是可迭代的```Iterable```。可以获得集合的```Iterable```对象来遍历合集中的所有元素。\n",
    "\n",
    "```Iterator```是一种经典的设计模式，用于在不需要暴露数据是如何保存在数据结构的细节的情况下，来遍历一个数据结构。"
   ]
  },
  {
   "cell_type": "code",
   "execution_count": 2,
   "metadata": {},
   "outputs": [
    {
     "name": "stdout",
     "output_type": "stream",
     "text": [
      "Kobe Bryant Died "
     ]
    }
   ],
   "source": [
    "Collection<String> col = new ArrayList<>();\n",
    "col.add(\"Kobe\");\n",
    "col.add(\"Bryant\");\n",
    "col.add(\"Died\");\n",
    "\n",
    "Iterator<String> it = col.iterator();  // 用接口声明变量,通过调用iterator()方法来返回一个迭代器\n",
    "\n",
    "while(it.hasNext()){\n",
    "    System.out.print(it.next() + \" \");\n",
    "}"
   ]
  },
  {
   "cell_type": "markdown",
   "metadata": {},
   "source": [
    "<center><font size=4>20.4 线性表</font></center>"
   ]
  },
  {
   "cell_type": "markdown",
   "metadata": {},
   "source": [
    "<font color='dd0000'>List接口</font>继承自<font color='dd0000'>Collection接口</font>，定义了一个用于顺序存储元素的集合。可以使用它的两个<font color='dd0000'>具体类</font>```ArrayList```或者```LinkedList```来创建一个线性表。"
   ]
  },
  {
   "cell_type": "markdown",
   "metadata": {},
   "source": [
    "List接口中的方法：增加了面向位置的操作，并且增加了一个能够双向遍历线性表的新**线性表迭代器**："
   ]
  },
  {
   "cell_type": "markdown",
   "metadata": {},
   "source": [
    "![](ListMethod.png)"
   ]
  },
  {
   "cell_type": "markdown",
   "metadata": {},
   "source": [
    "```ListIterator```接口继承了```Iterator```接口，以增强对线性表的双向遍历能力"
   ]
  },
  {
   "cell_type": "markdown",
   "metadata": {},
   "source": [
    "![](ListIteratorMethod.png)"
   ]
  },
  {
   "cell_type": "markdown",
   "metadata": {},
   "source": [
    "```add()```方法：插入到```next()```返回的元素前面，```previous()```返回对元素后面\n",
    "\n",
    "```set()```方法：将```next()```或```previous()```返回的最后一个元素替换为指定元素"
   ]
  },
  {
   "cell_type": "markdown",
   "metadata": {},
   "source": [
    "**```AbstractList```抽象类提供了```List```接口的部分实现。```AbstractSequentialList```抽象类扩展了```AbstractList```类，以提供对链表的支持**"
   ]
  },
  {
   "cell_type": "markdown",
   "metadata": {},
   "source": [
    "<center><font size=3>20.4.2  数组线性表类ArrayList和链表类LinkedList"
   ]
  },
  {
   "cell_type": "markdown",
   "metadata": {},
   "source": [
    "ArrayList类方法："
   ]
  },
  {
   "cell_type": "markdown",
   "metadata": {},
   "source": [
    "![](ArrayList.png)"
   ]
  },
  {
   "cell_type": "markdown",
   "metadata": {},
   "source": [
    "LinkedList类方法："
   ]
  },
  {
   "cell_type": "markdown",
   "metadata": {},
   "source": [
    "![](LinkedList.png)"
   ]
  },
  {
   "cell_type": "markdown",
   "metadata": {},
   "source": [
    "LinkedList的具体实现是双向链表，结点Node包含next和previous两个域。"
   ]
  },
  {
   "cell_type": "markdown",
   "metadata": {},
   "source": [
    "ArrayList获取元素的效率比较高；若在线性表的<font color='dd0000'>起始位置</font>插入和删除元素，那么LinkedList效率会高一些。\n",
    "\n",
    "<font color='dd0000'>**？？**</font>两种线性表在<font color='dd0000'>**？**</font>中间<font color='dd0000'>**？**</font>或者末尾位置上插入和删除元素方面具有同样的性能。(与LinkedList的实现有关)"
   ]
  },
  {
   "cell_type": "markdown",
   "metadata": {},
   "source": [
    "<font color='dd0000'>ArrayList and LinkedList can be operated similarly. \n",
    "    \n",
    "The critical differences between them are their internal implementation, which impacts the performance.\n",
    "\n",
    "ArrayList is efficient for retrieving elements, and for adding and **removing elements from the end of the list.** \n",
    "\n",
    "LinkedList is efficient for **adding and removing elements anywhere in the list.**</font>"
   ]
  },
  {
   "cell_type": "markdown",
   "metadata": {},
   "source": [
    "<font color='dd0000'>**⭐静态的```asList()```方法**</font>:"
   ]
  },
  {
   "cell_type": "code",
   "execution_count": 4,
   "metadata": {},
   "outputs": [
    {
     "name": "stdout",
     "output_type": "stream",
     "text": [
      "[10, 20, 30, 40, 50]\n",
      "[red, green, blue]\n"
     ]
    }
   ],
   "source": [
    "List<Integer> list1 = Arrays.asList(10,20,30,40,50);\n",
    "List<String> list2 = Arrays.asList(\"red\", \"green\", \"blue\");\n",
    "System.out.println(list1);\n",
    "System.out.println(list2);"
   ]
  },
  {
   "cell_type": "markdown",
   "metadata": {},
   "source": [
    "<center><font size=4>20.5 Comparator接口</font></center>"
   ]
  },
  {
   "cell_type": "markdown",
   "metadata": {},
   "source": [
    "Comparator 可以用于比较没有实现 Comparable 的类的对象"
   ]
  },
  {
   "cell_type": "code",
   "execution_count": 7,
   "metadata": {},
   "outputs": [],
   "source": [
    "//创建一个类实现接口：java.util.Comparator<T>\n",
    "\n",
    "//实现方法：public int compare(T o1, T o2){}\n",
    "\n",
    "//则可通过该类调用compare方法来比较两个没有实现Comparable的对象"
   ]
  },
  {
   "cell_type": "code",
   "execution_count": 18,
   "metadata": {},
   "outputs": [],
   "source": [
    "public class T{}\n",
    "\n",
    "// 一个实现了Comparator接口的类B\n",
    "public class B implements Comparator<T>{\n",
    "    // 重写compare方法\n",
    "    public int compare(T o1, T o2){\n",
    "        return 0;\n",
    "    }\n",
    "}\n",
    "// 可用B的一个实例(类型是Comparator)来比较两个T类型的变量\n",
    "T t1 = new T();\n",
    "T t2 = new T();\n",
    "Comparator<T> c = new B();\n",
    "c.compare(t1, t2);\n",
    "\n",
    "// 如果要调用sort方法对一个T类型的线性表进行排序，则：\n",
    "T[] list = new T[3];\n",
    "Arrays.sort(list, new B()); // 第二个参数为一个Comparator比较器,用于对list进行排序"
   ]
  },
  {
   "cell_type": "markdown",
   "metadata": {},
   "source": [
    "<center><font size=4>20.6 线性表和合集的静态方法</font></center>"
   ]
  },
  {
   "cell_type": "markdown",
   "metadata": {},
   "source": [
    "<font color='dd0000'>**Collections类**</font>(不是上面的<font color='dd0000'>Collection接口</font>)包含了执行合集和线性表中通用操作的静态方法。<font color='dd0000'>Collections类中所有方法都是静态的</font>"
   ]
  },
  {
   "cell_type": "markdown",
   "metadata": {},
   "source": [
    "![](Collections.png)"
   ]
  },
  {
   "cell_type": "markdown",
   "metadata": {},
   "source": [
    "```shuffle(List l, Random r)```用相同的Random对象会产生相同的随机序列"
   ]
  },
  {
   "cell_type": "code",
   "execution_count": 19,
   "metadata": {},
   "outputs": [
    {
     "name": "stdout",
     "output_type": "stream",
     "text": [
      "[red, blue, yellow, green]\n",
      "[red, blue, yellow, green]\n"
     ]
    }
   ],
   "source": [
    "List<String> list1 = Arrays.asList(\"yellow\", \"red\", \"green\", \"blue\");\n",
    "List<String> list2 = Arrays.asList(\"yellow\", \"red\", \"green\", \"blue\");\n",
    "Collections.shuffle(list1, new Random(10));\n",
    "Collections.shuffle(list2, new Random(10));\n",
    "System.out.println(list1);\n",
    "System.out.println(list2);"
   ]
  },
  {
   "cell_type": "markdown",
   "metadata": {},
   "source": [
    "```nCopies(int n, Object o)```创建一个包含指定对象的n个副本的<font color='dd0000'>不可变线性表</font>。不能在该线性表中添加、删除或更新元素。<font color='dd0000'>且所有的元素都有相同的引用。"
   ]
  },
  {
   "cell_type": "code",
   "execution_count": 21,
   "metadata": {},
   "outputs": [
    {
     "name": "stdout",
     "output_type": "stream",
     "text": [
      "[Tue Jan 28 19:22:32 CST 2020, Tue Jan 28 19:22:32 CST 2020, Tue Jan 28 19:22:32 CST 2020, Tue Jan 28 19:22:32 CST 2020, Tue Jan 28 19:22:32 CST 2020]\n",
      "true\n"
     ]
    }
   ],
   "source": [
    "List<Date> l = Collections.nCopies(5, new Date());\n",
    "System.out.println(l);\n",
    "System.out.println(l.get(0) == l.get(3)); // 所有元素的引用都相同"
   ]
  },
  {
   "cell_type": "markdown",
   "metadata": {},
   "source": [
    "```fill(List l, Object o)```用指定元素替换线性表中所有元素"
   ]
  },
  {
   "cell_type": "markdown",
   "metadata": {},
   "source": [
    "```disjoint(collection1, collection2)```如果两个合集**没有**相同元素，则返回true"
   ]
  },
  {
   "cell_type": "markdown",
   "metadata": {},
   "source": [
    "```frequency(collention element)```返回合集中某个元素出现的次数"
   ]
  },
  {
   "cell_type": "markdown",
   "metadata": {},
   "source": [
    "<center><font size=4>20.8 向量类和栈类</font></center>"
   ]
  },
  {
   "cell_type": "markdown",
   "metadata": {},
   "source": [
    "```Vector```是```AbstractList```的子类，```stack```是```Vector```的子类。(参考图20-1)"
   ]
  },
  {
   "cell_type": "markdown",
   "metadata": {},
   "source": [
    "除了包含用于访问和修改向量的<font color='dd0000'>同步方法</font>之外，Vector和ArrayList是一样的。<font color='dd0000'>同步方法</font>用于防止两个或多个线程同时访问和修改某个向量时引起数据损坏。\n",
    "\n",
    "对于不需要同步的应用程序来说，使用ArrayList效率更高。"
   ]
  },
  {
   "cell_type": "markdown",
   "metadata": {},
   "source": [
    "![](Vector.png)"
   ]
  },
  {
   "cell_type": "markdown",
   "metadata": {},
   "source": [
    "栈类Stack是作为Vector类的扩展来实现的"
   ]
  },
  {
   "cell_type": "markdown",
   "metadata": {},
   "source": [
    "![](stack.png)"
   ]
  },
  {
   "cell_type": "markdown",
   "metadata": {},
   "source": [
    "<center><font size=4>20.9 队列和优先队列</font></center>"
   ]
  },
  {
   "cell_type": "markdown",
   "metadata": {},
   "source": [
    "<font color='dd0000'>队列</font>是一种先进先出的数据结构。元素被追加到队列末尾，然后从队列头删除。\n",
    "\n",
    "<font color='dd0000'>优先队列</font>中，元素被赋予优先级，当访问元素时，拥有最高优先级的元素首先被删除。"
   ]
  },
  {
   "cell_type": "markdown",
   "metadata": {},
   "source": [
    "<center><font size=3>20.9.1 Queue接口"
   ]
  },
  {
   "cell_type": "markdown",
   "metadata": {},
   "source": [
    "Queue接口继承自Collection接口，加入了**插入、提取和检验**等操作"
   ]
  },
  {
   "cell_type": "markdown",
   "metadata": {},
   "source": [
    "![](Queue.png)"
   ]
  },
  {
   "cell_type": "markdown",
   "metadata": {},
   "source": [
    "<center><font size=3>20.9.2 双端队列Deque和链表LinkedList"
   ]
  },
  {
   "cell_type": "markdown",
   "metadata": {},
   "source": [
    "LinkedList类实现了Deque接口，Deque接口又继承自Queue接口。因此，可以使用LinkedList创建一个队列\n",
    "\n",
    "LinkedList很适合用于队列操作，因为它可以高效地在线性表的两端插入和移除元素\n",
    "\n",
    "Deque(Double-ended queue)支持在两端插入和删除元素。继承自Queue，增加了从队列两端插入和删除元素的方法：\n",
    "\n",
    "```addFirst()```，```removeFirst()```，```addLast()```，```getFirst()```，```getLast()```"
   ]
  },
  {
   "cell_type": "code",
   "execution_count": 23,
   "metadata": {},
   "outputs": [
    {
     "name": "stdout",
     "output_type": "stream",
     "text": [
      "Kobe Bryant Died "
     ]
    }
   ],
   "source": [
    "Queue<String> queue = new LinkedList<>();\n",
    "queue.offer(\"Kobe\");\n",
    "queue.offer(\"Bryant\");\n",
    "queue.offer(\"Died\");\n",
    "\n",
    "while(queue.size() > 0){\n",
    "    System.out.print(queue.remove() + \" \");\n",
    "}"
   ]
  },
  {
   "cell_type": "markdown",
   "metadata": {},
   "source": [
    "<font color='dd0000'>PriorityQueue类</font>实现了一个优先队列\n",
    "\n",
    "默认情况下，优先队列使用Comparable以元素的自然顺序进行排序，拥有最小数值的元素被赋予最高级，因此最先从队列中删除，如果几个元素具有相同的最高优先级，则任意选择一个。\n",
    "\n",
    "也可以使用构造方法```PriorityQueue(int capacity, Comparator comparator)```中的Comparator来指定一个顺序"
   ]
  },
  {
   "cell_type": "markdown",
   "metadata": {},
   "source": [
    "![](PriorityQueue.png)"
   ]
  }
 ],
 "metadata": {
  "kernelspec": {
   "display_name": "Java",
   "language": "java",
   "name": "java"
  },
  "language_info": {
   "codemirror_mode": "java",
   "file_extension": ".jshell",
   "mimetype": "text/x-java-source",
   "name": "Java",
   "pygments_lexer": "java",
   "version": "12.0.2+10"
  }
 },
 "nbformat": 4,
 "nbformat_minor": 2
}
