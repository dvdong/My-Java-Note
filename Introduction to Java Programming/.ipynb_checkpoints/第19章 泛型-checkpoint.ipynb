{
 "cells": [
  {
   "cell_type": "markdown",
   "metadata": {},
   "source": [
    "<center><font size=5>第19章 泛型</font></center>"
   ]
  },
  {
   "cell_type": "markdown",
   "metadata": {},
   "source": [
    ">泛型可以让我们在<font color='dd0000'>编译时</font>，而不是<font color='dd0000'>运行时</font>检测出错误"
   ]
  },
  {
   "cell_type": "markdown",
   "metadata": {},
   "source": [
    "泛型，即“**参数化类型**”。一提到参数，最熟悉的就是定义方法时有形参，然后调用此方法时传递实参。那么参数化类型怎么理解呢？顾名思义，就是将类型由原来的具体的类型参数化，类似于方法中的变量参数，此时类型也定义成参数形式（可以称之为类型形参），然后在使用/调用时传入具体的类型（类型实参）。\n",
    "\n",
    "泛型的本质是为了参数化类型（**在不创建新的类型的情况下，通过泛型指定的不同类型来控制形参具体限制的类型**）。也就是说在泛型使用过程中，操作的数据类型被指定为一个参数，这种参数类型可以用在类、接口和方法中，分别被称为<font color='dd0000'>泛型类、泛型接口、泛型方法</font>。"
   ]
  },
  {
   "cell_type": "code",
   "execution_count": null,
   "metadata": {},
   "outputs": [],
   "source": [
    "// 在JDK1.5之前，没有引入泛型，下面的代码可以编译，但是会产生【运行时错误】\n",
    "\n",
    "Comparable c = new Date();\n",
    "c.compareTo(\"red\");"
   ]
  },
  {
   "cell_type": "code",
   "execution_count": 7,
   "metadata": {},
   "outputs": [
    {
     "ename": "CompilationException",
     "evalue": "",
     "output_type": "error",
     "traceback": [
      "\u001b[1m\u001b[30m|   \u001b[1m\u001b[30mc.compareTo(\u001b[0m\u001b[1m\u001b[30m\u001b[41m\"red\"\u001b[0m\u001b[1m\u001b[30m);\u001b[0m",
      "\u001b[1m\u001b[31m不兼容的类型: java.lang.String无法转换为java.util.Date\u001b[0m",
      ""
     ]
    }
   ],
   "source": [
    "// 引入泛型后，下面的代码会产生【编译错误】，这个错误可以在编译时被检查到，因此泛型使程序更加可靠\n",
    "\n",
    "Comparable<Date> c = new Date();\n",
    "c.compareTo(\"red\");"
   ]
  },
  {
   "cell_type": "markdown",
   "metadata": {},
   "source": [
    "泛型类型必须是<font color='dd0000'>引用类型</font>。不能用```int double char```这样的基本类型"
   ]
  },
  {
   "cell_type": "markdown",
   "metadata": {},
   "source": [
    "无需类型转换就可以从一个元素类型已指定的线性表中获取一个值"
   ]
  },
  {
   "cell_type": "code",
   "execution_count": 9,
   "metadata": {},
   "outputs": [
    {
     "data": {
      "text/plain": [
       "red"
      ]
     },
     "execution_count": 9,
     "metadata": {},
     "output_type": "execute_result"
    }
   ],
   "source": [
    "ArrayList<String> list = new ArrayList<>();\n",
    "list.add(\"red\");\n",
    "list.add(\"white\");\n",
    "String s = list.get(0);\n",
    "\n",
    "\n",
    "// 在JDK1.5之前，没有泛型，所以必须把取出的类型转换为String，现在可以直接赋值"
   ]
  },
  {
   "cell_type": "markdown",
   "metadata": {},
   "source": [
    "<center><font size=4>19.3 定义泛型类和接口</font></center>"
   ]
  },
  {
   "cell_type": "markdown",
   "metadata": {},
   "source": [
    ">可以为类或接口定义泛型。当使用类来创建对象，或者使用类或接口来声明引用变量时，必须指定具体的类型"
   ]
  },
  {
   "cell_type": "code",
   "execution_count": 1,
   "metadata": {},
   "outputs": [],
   "source": [
    "// 定义一个带泛型的栈\n",
    "\n",
    "public class GenericStack<E> {\n",
    "    private ArrayList<E> list = new ArrayList<>();\n",
    "    private int top;\n",
    "    private int size;\n",
    "    \n",
    "    public GenericStack(int size){  // 构造方法不带尖括号<>!!!\n",
    "        this.size = size;\n",
    "    }\n",
    "}"
   ]
  },
  {
   "cell_type": "markdown",
   "metadata": {},
   "source": [
    "<font color='dd0000'>↑构造方法不带泛型的尖括号"
   ]
  },
  {
   "cell_type": "markdown",
   "metadata": {},
   "source": [
    "有时候，泛型类可能有多个参数。在这种情况下，应将所有参数一起放在尖括号中，并用逗号分开，如：```<E1,E2,E3>```"
   ]
  },
  {
   "cell_type": "code",
   "execution_count": 16,
   "metadata": {},
   "outputs": [],
   "source": [
    "// 定义一个类或接口作为泛型类或泛型接口的子类型\n",
    "\n",
    "public class String implements Comparable<String>{\n",
    "    public int compareTo(String s){\n",
    "        return -1;\n",
    "    }\n",
    "}"
   ]
  },
  {
   "cell_type": "markdown",
   "metadata": {},
   "source": [
    "<center><font size=4>19.4 泛型方法</font></center>"
   ]
  },
  {
   "cell_type": "markdown",
   "metadata": {},
   "source": [
    ">可以为<font color='dd0000'>静态方法</font>定义泛型类型"
   ]
  },
  {
   "cell_type": "code",
   "execution_count": 2,
   "metadata": {},
   "outputs": [
    {
     "name": "stdout",
     "output_type": "stream",
     "text": [
      "1 2 3 4 5 \n"
     ]
    }
   ],
   "source": [
    "// 定义泛型方法\n",
    "\n",
    "public static <E> void print(E[] list){\n",
    "    for (int i = 0; i < list.length; i++){\n",
    "        System.out.print(list[i] + \" \");\n",
    "    }\n",
    "    System.out.println();\n",
    "}\n",
    "\n",
    "\n",
    "Integer[] integers = {1,2,3,4,5};\n",
    "print(integers);"
   ]
  },
  {
   "cell_type": "markdown",
   "metadata": {},
   "source": [
    "可以将泛型的类型指定为另外一种类型的<font color='dd0000'>子类型</font>，这样的泛型称为<font color='dd0000'>受限的</font>。\n",
    "\n",
    "非受限泛型```<E>```等同于```<E extends Object>```"
   ]
  },
  {
   "cell_type": "markdown",
   "metadata": {},
   "source": [
    "> 定义泛型类时，泛型类型放在<font color='dd0000'>类名后</font>，如```public class GenericStack<E> ```\n",
    "    \n",
    "> 定义泛型方法时，将泛型类型放在<font color='dd0000'>返回类型前</font>，如```public static <E> void print(E[] list)```"
   ]
  },
  {
   "cell_type": "markdown",
   "metadata": {},
   "source": [
    "<center><font size=4>19.6 原始类型和向后兼容</font></center>"
   ]
  },
  {
   "cell_type": "markdown",
   "metadata": {},
   "source": [
    "> 没有指定具体类型的泛型类和泛型接口被称为<font color='dd0000'>原始类型</font>，用于和早期的Java版本向后兼容"
   ]
  },
  {
   "cell_type": "code",
   "execution_count": 2,
   "metadata": {},
   "outputs": [],
   "source": [
    "// 使用原始类型的方法\n",
    "\n",
    "public static Comparable max(Comparable o1, Comparable o2){\n",
    "    if (o1.compareTo(o2) > 0)\n",
    "        return o1;\n",
    "    else\n",
    "        return o2;\n",
    "}"
   ]
  },
  {
   "cell_type": "markdown",
   "metadata": {},
   "source": [
    "原始类型是不安全的"
   ]
  },
  {
   "cell_type": "code",
   "execution_count": 4,
   "metadata": {},
   "outputs": [],
   "source": [
    "// 使用泛型方法更安全，可以在编译时发现错误\n",
    "\n",
    "public static <E extends Comparable<E>> E max(E o1, E o2){\n",
    "    if (o1.compareTo(o2) > 0)\n",
    "        return o1;\n",
    "    else\n",
    "        return o2;\n",
    "}"
   ]
  },
  {
   "cell_type": "markdown",
   "metadata": {},
   "source": [
    "<center><font size=4>19.7 通配泛型</font></center>"
   ]
  },
  {
   "cell_type": "markdown",
   "metadata": {},
   "source": [
    "> 可以使用<font color='dd0000'>通配泛型、受限通配或者下限通配</font>来对一个泛型类型指定范围"
   ]
  },
  {
   "cell_type": "code",
   "execution_count": 3,
   "metadata": {},
   "outputs": [],
   "source": [
    "//  定义一个方法，需要的参数类型为 GenericStack<Number>\n",
    "\n",
    "public static double max(GenericStack<Number> stack){\n",
    "    return 1.0;\n",
    "}"
   ]
  },
  {
   "cell_type": "code",
   "execution_count": 5,
   "metadata": {},
   "outputs": [
    {
     "ename": "CompilationException",
     "evalue": "",
     "output_type": "error",
     "traceback": [
      "\u001b[1m\u001b[30m|   \u001b[1m\u001b[30mmax(\u001b[0m\u001b[1m\u001b[30m\u001b[41mintStack\u001b[0m\u001b[1m\u001b[30m);\u001b[0m",
      "\u001b[1m\u001b[31m不兼容的类型: GenericStack<java.lang.Integer>无法转换为GenericStack<java.lang.Number>\u001b[0m",
      ""
     ]
    }
   ],
   "source": [
    "// 使用 GenericStack<Integer>调用\n",
    "\n",
    "GenericStack<Integer> intStack = new GenericStack<>(5);\n",
    "max(intStack);"
   ]
  },
  {
   "cell_type": "markdown",
   "metadata": {},
   "source": [
    "出现错误，因为尽管```Integer```是```Number```的子类型，但是```GenericStack<Integer>```并不是```GenericStack<Number>```的子类型，所以不能调用```max```方法"
   ]
  },
  {
   "cell_type": "markdown",
   "metadata": {},
   "source": [
    "使用<font color='dd0000'>通配泛型类型</font>可以解决这个问题\n",
    "\n",
    "通配泛型类型有三种形式：```?```、```? extends T```、```? super T```"
   ]
  },
  {
   "cell_type": "markdown",
   "metadata": {},
   "source": [
    "```?``` 称为**非受限通配**，等同于```? extends Object```\n",
    "\n",
    "```? extends T``` 称为**受限通配**，表示```T```或```T```的一个子类型\n",
    "\n",
    "```? super T``` 称为**下限通配**，表示```T```或```T```的一个父类型"
   ]
  },
  {
   "cell_type": "code",
   "execution_count": 8,
   "metadata": {},
   "outputs": [],
   "source": [
    "// 将方法修改为：\n",
    "\n",
    "public static double max2(GenericStack<? extends Number> stack){\n",
    "    return 1.0;\n",
    "}"
   ]
  },
  {
   "cell_type": "code",
   "execution_count": 9,
   "metadata": {},
   "outputs": [
    {
     "data": {
      "text/plain": [
       "1.0"
      ]
     },
     "execution_count": 9,
     "metadata": {},
     "output_type": "execute_result"
    }
   ],
   "source": [
    "// 再使用GenericStack<Integer>调用：\n",
    "\n",
    "max(intStack);"
   ]
  },
  {
   "cell_type": "markdown",
   "metadata": {},
   "source": [
    "<center><font size=4>19.8 消除泛型和对泛型的限制</font></center>"
   ]
  },
  {
   "cell_type": "markdown",
   "metadata": {},
   "source": [
    "泛型是使用一种称为<font color='dd0000'>类型消除</font>的方法来实现的。编译器使用泛型类型信息来编译代码，但是随后会消除它。因此，泛型信息在运行时是不可用的。\n",
    "\n",
    "泛型存在于编译时，一旦编译器确认泛型类型是安全使用的，就会将它转换为原始类型"
   ]
  },
  {
   "cell_type": "code",
   "execution_count": 16,
   "metadata": {},
   "outputs": [
    {
     "data": {
      "text/plain": [
       "true"
      ]
     },
     "execution_count": 16,
     "metadata": {},
     "output_type": "execute_result"
    }
   ],
   "source": [
    "// 编译时，泛型被转换为原始类型\n",
    "\n",
    "ArrayList<String> list = new ArrayList<>();\n",
    "list.add(\"aaa\");\n",
    "\n",
    "// 当编译器检查上述泛型是被安全使用时，会将其转换为运行时使用的等价代码：\n",
    "\n",
    "ArrayList list = new ArrayList();\n",
    "list.add(\"aaa\");"
   ]
  },
  {
   "cell_type": "markdown",
   "metadata": {},
   "source": [
    "当编译泛型类、接口和方法时，编译器用Object类型代替泛型类型"
   ]
  },
  {
   "cell_type": "markdown",
   "metadata": {},
   "source": [
    "不管实际的具体类型是什么，**泛型类**是被它的所有实例所共享的，例如："
   ]
  },
  {
   "cell_type": "code",
   "execution_count": 12,
   "metadata": {},
   "outputs": [
    {
     "name": "stdout",
     "output_type": "stream",
     "text": [
      "true\n",
      "true\n"
     ]
    }
   ],
   "source": [
    "ArrayList<String> list1 = new ArrayList<>();\n",
    "ArrayList<Integer> list2 = new ArrayList<>();\n",
    "\n",
    "System.out.println(list1 instanceof ArrayList);\n",
    "System.out.println(list1 instanceof ArrayList);"
   ]
  },
  {
   "cell_type": "markdown",
   "metadata": {},
   "source": [
    "尽管编译时```ArrayList<String>```和```ArrayList<Integer>```是两种类型，但是运行时只有一个```ArrayList```类会被加载到JVM中，```list1```和```list2```都是```ArrayList```的实例"
   ]
  },
  {
   "cell_type": "markdown",
   "metadata": {},
   "source": [
    "<font color='dd0000'>由于泛型类型在运行时被消除，因此，对于如何使用泛型类型是有一些限制的"
   ]
  },
  {
   "cell_type": "markdown",
   "metadata": {},
   "source": [
    "> **限制1：**不能使用 new E()，不允许进行实例化\n",
    "\n",
    "> **限制2：**不能使用 new E[ ]，不能使用泛型类型参数创建数组\n",
    "\n",
    "> **限制3：**在静态上下文中不允许类的参数是泛型类型 (和**泛型方法**区分,本限制指的是在普通方法中使用泛型)\n",
    "\n",
    "    因为泛型是要在对象创建的时候才知道是什么类型的，而对象创建的代码执行先后顺序是static的部分，然后才是构造函数等等。所以在对象初始化之前static的部分已经执行了，如果你在静态部分引用的泛型，那么毫无疑问虚拟机根本不知道是什么东西，因为这个时候类还没有初始化。因此在静态方法、数据域或初始化语句中，为类而引用泛型类型参数是非法的\n",
    "    \n",
    "> **限制4：**异常类不能是泛型的，泛型类不能扩展```java.lang.Throwable```\n",
    "\n",
    "    如果允许异常类是泛型的，那么在处理时：try{...} catch (MyException<T> e) {...}，JVM必须检查这个从 try 子句中抛出的异常是否和 catch 子句中指定的类型匹配，但这是不可能的，因为消除类型机制使运行时类型信息是不可得的"
   ]
  }
 ],
 "metadata": {
  "kernelspec": {
   "display_name": "Java",
   "language": "java",
   "name": "java"
  },
  "language_info": {
   "codemirror_mode": "java",
   "file_extension": ".jshell",
   "mimetype": "text/x-java-source",
   "name": "Java",
   "pygments_lexer": "java",
   "version": "12.0.2+10"
  }
 },
 "nbformat": 4,
 "nbformat_minor": 2
}
