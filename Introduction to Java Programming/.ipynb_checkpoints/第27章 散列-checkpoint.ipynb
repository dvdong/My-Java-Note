{
 "cells": [
  {
   "cell_type": "markdown",
   "metadata": {},
   "source": [
    "<center><font size=5>第27章 散列</font></center>"
   ]
  },
  {
   "cell_type": "markdown",
   "metadata": {},
   "source": [
    "<center><font size=4>27.2 什么是散列</font></center>"
   ]
  },
  {
   "cell_type": "markdown",
   "metadata": {},
   "source": [
    "<font color='dd0000'>散列使用一个**散列函数**，将一个**键**映射到一个**索引**上</font>"
   ]
  },
  {
   "cell_type": "markdown",
   "metadata": {},
   "source": [
    "```java.util.HashMap```使用散列实现，```java.util.LinkedHashMap```使用*LinkedList*，```java.util.TreeMap```使用红黑树"
   ]
  },
  {
   "cell_type": "markdown",
   "metadata": {},
   "source": [
    "存储了值的数组称为<font color='dd0000'>散列表(*hash table*)</font>，将键映射到散列表中的索引上的函数称为<font color='dd0000'>散列函数(*hash function*)</font>"
   ]
  },
  {
   "cell_type": "markdown",
   "metadata": {},
   "source": [
    "将每个搜索的键映射到散列表中的不同索引上的函数称为<font color='dd0000'>完美散列函数</font>\n",
    "\n",
    "当两个或者更多的键映射到一个散列值上的时候，称为产生了一个<font color='dd0000'>冲突</font>"
   ]
  },
  {
   "cell_type": "markdown",
   "metadata": {},
   "source": [
    "<center><font size=4>27.3 散列函数和散列码</font></center>"
   ]
  },
  {
   "cell_type": "markdown",
   "metadata": {},
   "source": [
    "<font color='dd0000'>典型的散列函数首先将搜索键转换成一个称为**散列码**的整数值，然后将散列码压缩为散列表中的索引</font>"
   ]
  },
  {
   "cell_type": "markdown",
   "metadata": {},
   "source": [
    "***Object***类中的<font color='dd0000'>***hashCode()***</font>方法：该方法返回一个整数的散列码，默认地，该方法返回一个该对象地内存地址。\n",
    "\n",
    "<font color='dd0000'>**(1)** </font>当```equals()```方法被重写时，应该重写```hashCode()```方法，从而保证两个相等的对象返回同样的散列码\n",
    "\n",
    "<font color='dd0000'>**(2)** </font> 程序执行中，如果对象的数据没有被修改，则多次调用```hashCode()```将返回同样的整数\n",
    "\n",
    "<font color='dd0000'>**(3)**</font> 两个不相等的对象可能具有同样的散列码，但是应该在实现```hashCode()```方法时避免太多这样的情形出现\n"
   ]
  },
  {
   "cell_type": "markdown",
   "metadata": {},
   "source": [
    "<center><font size=3>27.3.1 基本数据类型的散列码"
   ]
  },
  {
   "cell_type": "markdown",
   "metadata": {},
   "source": [
    "对于***byte、short、int、char***类型的搜索键而言，简单地将它们转型为***int***。因此这些类型中的任何一个不同的搜索键将拥有不同的散列码\n",
    "\n",
    "对于***float***类型的搜索键，使用```Float.floatToIntBits(key)```作为散列码。方法```floatToIntBits(float f)```返回一个*int*值，该值的比特表示和浮点数*f*相同，因此，两个不同的*float*类型的搜索键将有不同的散列码\n",
    "\n",
    "对于***long***类型的搜索键，简单地将其类型转换为*int*不是很好的选择，因为这样所有前32位不同的键都将具有相同的散列码。考虑前32比特，将64比特分为两部分，并执行*异或*操作将两部分合并，即：```int hashCode = (int)(key ^ (key >> 32));```\n",
    "\n",
    "对于***double***类型的所有键，首先使用```Double.doubleToLongBits```转化位*long*值，再如上操作"
   ]
  },
  {
   "cell_type": "markdown",
   "metadata": {},
   "source": [
    "<center><font size=3>27.3.2 字符串类型的散列码"
   ]
  },
  {
   "cell_type": "markdown",
   "metadata": {},
   "source": [
    "搜索键经常是字符串，因此位字符串设计好的散列函数非常重要。一个比较直观的方法是将所有字符的Unicode求和作为字符串的散列码，但对于包含同样字符的键将产生许多冲突。所以，一个更好的方法是再把字符的位置考虑进去，然后产生散列码，具体的：\n",
    "\n",
    "<font color='dd0000'>$$s_0 \\times b^{(n-1)}+s_1 \\times b^{(n-2)} + … +s_{n-1}$$</font>\n",
    "\n",
    "这里$s_i$为```s.charAt(i)```。这个表达式为一些正数 $b$ 的多项式，因此被称为***多项式散列码***，可通过多项式的高效方法进行计算：\n",
    "\n",
    "<font color='dd0000'>$$(…((s_0 \\times b + s_1)b + s_2)b + …+s_{n-2})b + s_{n-1} $$</font>\n",
    "\n",
    "这个计算对于长的字符串来说，会导致溢出，但是Java中会忽略算术溢出。应该选择一个合适的$b$值来最小化冲突。\n",
    "\n",
    "实验显示，$b$的较好的取值为<font color='dd0000'>$31、33、37、39、41$</font>，String类中，hashCode采用$b$值为<font color='dd0000'>**31**</font>的多项式散列码计算"
   ]
  },
  {
   "cell_type": "markdown",
   "metadata": {},
   "source": [
    "<center><font size=3>27.3.3 压缩散列码"
   ]
  },
  {
   "cell_type": "markdown",
   "metadata": {},
   "source": [
    "键的散列码可能是一个很大的整数，超过了散列表索引的范围，因此需要将它缩小到合适索引的范围。假设散列表的索引处于$0$到$N-1$之间。将一个整数缩小到$0$到$N-1$的最通常的做法是\n",
    "\n",
    "```h(hashCode) = hashCode % N```\n",
    "\n",
    "保证索引均匀扩展，选择$N$为大于2的素数\n",
    "\n",
    "理想的，应该为$N$选择一个素数，然而，选择一个大的素数将很耗时。Java API为java.util.HashMap的实现中，$N$设置为一个2的幂值。此时有\n",
    "\n",
    "```h(hashCode) = hashCode % N``` 等于\n",
    "\n",
    "```h(hashCode) = hashCode & (N-1)```\n",
    "\n",
    "即：<font color='dd0000'>当$N=2^k$时，求$N$的余数等于和$N-1$做与运算</font>。<font color='dd0000'>**&操作符比%操作符执行快很多**</font>"
   ]
  },
  {
   "cell_type": "markdown",
   "metadata": {},
   "source": [
    "为了保证散列码是均匀分布的，java.util.HashMap的实现中采用了<font color='dd0000'>补充的散列函数</font>与主函数一起使用，该函数定义为：\n",
    "\n",
    "```private static int supplementHash(int h){\n",
    "    h ^= (h >>> 20) ^ (h >>> 12);\n",
    "    return h ^ (h >>> 7) ^ (h >>> 4);\n",
    "  }```\n",
    "  \n",
    "```^```和```>>>```是***异或***和***无符号右移***操作。<font color='dd0000'>位运算比乘、除、求余运算更快，应尽量使用位运算来取代它们</font>"
   ]
  },
  {
   "cell_type": "markdown",
   "metadata": {},
   "source": [
    "**完整的散列函数如下定义：**\n",
    "\n",
    "```h(hashCode) = supplementHash(hashCode) % N``` $\\equiv$ ```h(hashCode) = supplementHash(hashCode) & (N-1)```"
   ]
  },
  {
   "cell_type": "markdown",
   "metadata": {},
   "source": [
    "<center><font size=4>27.4 使用开放地址法处理冲突</font></center>"
   ]
  },
  {
   "cell_type": "markdown",
   "metadata": {},
   "source": [
    "当两个键映射到散列表中的同一个索引上时，冲突发生。通常，有两种方法处理冲突：<font color='dd0000'>开放地址法</font>和<font color='dd0000'>链地址法</font>"
   ]
  },
  {
   "cell_type": "markdown",
   "metadata": {},
   "source": [
    "<font color='dd0000'>**开放地址法(open addressing)**</font>是在冲突发生时，再散列表中找到一个开放位置的过程。开放地址法有几个变体：<font color='dd0000'>线性探测、二次探测、再哈希法</font>。"
   ]
  },
  {
   "cell_type": "markdown",
   "metadata": {},
   "source": [
    "<center><font size=3>27.4.1 线性探测"
   ]
  },
  {
   "cell_type": "markdown",
   "metadata": {},
   "source": [
    "当插入一个条目到散列表中发生冲突时，<font color='dd0000'>线性探测法</font>按顺序找到下一个可用的位置"
   ]
  },
  {
   "cell_type": "markdown",
   "metadata": {},
   "source": [
    "![](linearprobing.png)"
   ]
  },
  {
   "cell_type": "markdown",
   "metadata": {},
   "source": [
    "查找散列表中的条目时，从散列函数获得键相应的索引，比如*k*，检查*hashTable[k % N]*是否包含该条目，如果没有，则检查*hashTable[k+1 % N]*，以此类推，直到找到或者达到一个空的单元\n",
    "\n",
    "删除散列表中的条目时，查找匹配键的条目。如果找到，则<font color='dd0000'>放置一个特殊的标记表示该条目是可用的</font>。散列表中的每个单元具有三个可能的状态：<font color='dd0000'>被占用的、标记的、空的</font>。一个被标记的条目可以被插入。"
   ]
  },
  {
   "cell_type": "markdown",
   "metadata": {},
   "source": [
    "线性探测法容易导致散列表中的连续单元组被占用，每个组称为一个<font color='dd0000'>**簇**(cluster)</font>。每个簇实际上成为在获取、添加和删除一个条目时必须查找的探测序列。当簇的大小增加时，它们可能合并为更大的簇，从而放慢查找的时间。这是线性探测法的一个较大的缺点。"
   ]
  },
  {
   "cell_type": "markdown",
   "metadata": {},
   "source": [
    "<center><font size=3>27.4.2 二次探测法"
   ]
  },
  {
   "cell_type": "markdown",
   "metadata": {},
   "source": [
    "<font color='dd0000'>二次探测法</font>可以避免线性探测法产生的成簇的问题。线性探测法从索引*k*位置审查连续单元。二次探测法则从索引为$(k+j^2)\\%N$位置的单元开始审查，其中$j \\geq 0$。即：$(k+1)\\%N, (k+4)\\%N, (k+9)\\%N$，以此类推"
   ]
  },
  {
   "cell_type": "markdown",
   "metadata": {},
   "source": [
    "![](quadraticprobing.png)"
   ]
  },
  {
   "cell_type": "markdown",
   "metadata": {},
   "source": [
    "线性探测法可以保证只要表不是满的，一个可用的单元总是可以被找到用于插入新的元素，而二次探测法不能保证这个"
   ]
  },
  {
   "cell_type": "markdown",
   "metadata": {},
   "source": [
    "<center><font size=3>27.4.3 再哈希法"
   ]
  },
  {
   "cell_type": "markdown",
   "metadata": {},
   "source": [
    "另一个避免成簇问题的开放地址模式成为再哈希法(double hashing)。从初始索引*k*开始，线性探测法和二次探测法都对*k*增加一个值来定义一个探索序列。对于线性探测来说增量为1，对于二次探测法来说增量为$j^2$，这些增量都独立与键\n",
    "\n",
    "再哈希法在键上应用一个<font color='dd0000'>二次散列函数$h'(key)$</font>来确定增量，从而避免成簇问题\n",
    "\n",
    "具体来说，再哈希法审查索引为<font color='dd0000'>$(k+j*h'(key))\\%N$</font>处的单元，其中$j\\geq0$。即：$k\\%N，(k+h'(key))\\%N，(k+2*h'(key))\\%N……$"
   ]
  },
  {
   "cell_type": "markdown",
   "metadata": {},
   "source": [
    "![](doublehashing1.png)\n",
    "![](doublehashing2.png)"
   ]
  },
  {
   "cell_type": "markdown",
   "metadata": {},
   "source": [
    "<center><font size=4>27.5 使用链地址法处理冲突</font></center>"
   ]
  },
  {
   "cell_type": "markdown",
   "metadata": {},
   "source": [
    "链地址法将具有同样的散列索引的条目都放在一个位置，而不是寻找一个新的位置。链地址法的每个位置使用一个桶来放置多个条目\n",
    "\n",
    "可以使用数组，ArrayList或者LinkedList来实现一个桶。以LinkedList为例，可以将散列表的每个单元视为指向一个链表头的引用"
   ]
  },
  {
   "cell_type": "markdown",
   "metadata": {},
   "source": [
    "![](LinkedHash.png)"
   ]
  },
  {
   "cell_type": "markdown",
   "metadata": {},
   "source": [
    "<center><font size=4>27.6 装填因子和再散列</font></center>"
   ]
  },
  {
   "cell_type": "markdown",
   "metadata": {},
   "source": [
    "<font color='dd0000'>**装填因子**(load factor)</font>衡量一个散列表有多满。如果装填因子溢出，则增加散列表的大小，并重新装载条目到一个新的更大的散列表中，这称为<font color='dd0000'>**再散列**</font>"
   ]
  },
  {
   "cell_type": "markdown",
   "metadata": {},
   "source": [
    "装填因子<font color='dd0000'>$\\lambda$</font>等于元素数目和散列表大小的比例，即$\\lambda=\\frac{n}{N}$\n",
    "\n",
    "对于开放地址法，$\\lambda$介于$0$和$1$之间；对于链地址法，$\\lambda$可能为任意值\n",
    "\n",
    "当$\\lambda$增加时，冲突的可能性增加。研究表明，对于开放地址法，需要维持<font color='dd0000'>$\\lambda<0.5$</font>；对于链地址法，需要维持<font color='dd0000'>$\\lambda<0.9$</font>"
   ]
  },
  {
   "cell_type": "markdown",
   "metadata": {},
   "source": [
    "将装填因子保持在一定的阈值以下对于散列的性能是非常重要的。Java API中java.util.HashMap类的实现中，采用了阈值0.75"
   ]
  },
  {
   "cell_type": "markdown",
   "metadata": {},
   "source": [
    "<center><font size=4>27.7 使用散列实现映射表</font></center>"
   ]
  },
  {
   "cell_type": "markdown",
   "metadata": {},
   "source": [
    "对照java.util.Map设计自定义的MyMap接口"
   ]
  },
  {
   "cell_type": "markdown",
   "metadata": {},
   "source": [
    "![](MyHashMap.png)"
   ]
  },
  {
   "cell_type": "markdown",
   "metadata": {},
   "source": [
    "<center><font size=4>27.8 使用散列实现集合</font></center>"
   ]
  },
  {
   "cell_type": "markdown",
   "metadata": {},
   "source": [
    "```java,util.HashSet```采用散列实现，```java.util.LinkedHashSet```采用*LinkedList*实现，```java.util.TreeSet```采用红黑树实现"
   ]
  },
  {
   "cell_type": "markdown",
   "metadata": {},
   "source": [
    "可以采用实现*MyHashMap*同样的方式来实现*MyHashSet*，唯一的不同之处在于<font color='dd0000'>键-值对存储在映射表中，而元素存储在集合中</font>"
   ]
  },
  {
   "cell_type": "markdown",
   "metadata": {},
   "source": [
    "![](MySet.png)"
   ]
  }
 ],
 "metadata": {
  "kernelspec": {
   "display_name": "Java",
   "language": "java",
   "name": "java"
  },
  "language_info": {
   "codemirror_mode": "java",
   "file_extension": ".jshell",
   "mimetype": "text/x-java-source",
   "name": "Java",
   "pygments_lexer": "java",
   "version": "12.0.2+10"
  }
 },
 "nbformat": 4,
 "nbformat_minor": 2
}
