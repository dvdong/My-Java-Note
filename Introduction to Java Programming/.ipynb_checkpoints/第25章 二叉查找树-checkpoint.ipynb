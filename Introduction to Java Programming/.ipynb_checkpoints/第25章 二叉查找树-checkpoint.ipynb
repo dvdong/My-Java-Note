{
 "cells": [
  {
   "cell_type": "markdown",
   "metadata": {},
   "source": [
    "<center><font size=5>第25章 二叉查找树</font></center>"
   ]
  },
  {
   "cell_type": "markdown",
   "metadata": {},
   "source": [
    "<center><font size=4>25.2 二叉查找树</font></center>"
   ]
  },
  {
   "cell_type": "markdown",
   "metadata": {},
   "source": [
    "<center><font size=3>25.2.5  BST类"
   ]
  },
  {
   "cell_type": "markdown",
   "metadata": {},
   "source": [
    "遵循Java合集框架API的设计模式，使用一个名为```Tree```的接口来定义树的所有常用操作，并提供名为```AbstractTree```的抽象类部分实现接口Tree，继承AbstractTree类定义一个具体的BST类"
   ]
  },
  {
   "cell_type": "markdown",
   "metadata": {},
   "source": [
    "![](Tree.png)"
   ]
  }
 ],
 "metadata": {
  "kernelspec": {
   "display_name": "Java",
   "language": "java",
   "name": "java"
  },
  "language_info": {
   "codemirror_mode": "java",
   "file_extension": ".jshell",
   "mimetype": "text/x-java-source",
   "name": "Java",
   "pygments_lexer": "java",
   "version": "12.0.2+10"
  }
 },
 "nbformat": 4,
 "nbformat_minor": 2
}
