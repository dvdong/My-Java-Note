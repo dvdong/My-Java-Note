{
 "cells": [
  {
   "cell_type": "markdown",
   "metadata": {},
   "source": [
    "<center><font size=5>正则表达式</font></center>"
   ]
  },
  {
   "cell_type": "markdown",
   "metadata": {},
   "source": [
    "### 1. 匹配字符串"
   ]
  },
  {
   "cell_type": "code",
   "execution_count": 1,
   "metadata": {},
   "outputs": [
    {
     "data": {
      "text/plain": [
       "true"
      ]
     },
     "execution_count": 1,
     "metadata": {},
     "output_type": "execute_result"
    }
   ],
   "source": [
    "\"Java\".matches(\"Java.*\");"
   ]
  },
  {
   "cell_type": "code",
   "execution_count": 2,
   "metadata": {},
   "outputs": [
    {
     "data": {
      "text/plain": [
       "true"
      ]
     },
     "execution_count": 2,
     "metadata": {},
     "output_type": "execute_result"
    }
   ],
   "source": [
    "\"Java is cool\".matches(\"Java.*\");"
   ]
  },
  {
   "cell_type": "markdown",
   "metadata": {},
   "source": [
    "方法```matches()```的参数，字符串```\"Java.*\"```是一个正则表达式，它描述了一个字符串模式，表示以 Java 开始，后面跟0个或多个字符串"
   ]
  },
  {
   "cell_type": "markdown",
   "metadata": {},
   "source": [
    "### 2. 正则表达式语法"
   ]
  },
  {
   "cell_type": "markdown",
   "metadata": {},
   "source": [
    "正则表达式由**字面值字符**和**特殊符号**组成"
   ]
  },
  {
   "cell_type": "markdown",
   "metadata": {},
   "source": [
    "**<center>常用的正则表达式</center>**\n",
    "\n",
    "    \n",
    "正则表达式|匹配|示例\n",
    ":--|:--|:--|\n",
    "x|指定字符x|Java 匹配 Java\n",
    ".|任意单个字符|Java 匹配 J..a\n",
    "(ab\\|cd)|ab或者cd|ten 匹配 t(en|im)\n",
    "[abc]|a、b或者c|Java 匹配 Ja[uvwx]a\n",
    "[^abc]|除开a、b或者c外的任意字符|Java 匹配 Ja[^ars]a\n",
    "[a-z]|a到z|Java 匹配 [A-M]av[a-d]\n",
    "[^a-z]|除开a到z的任意字符|Java 匹配 Jav[^b-d]\n",
    "[a-e[m-p]]|a到e或m到p|Java 匹配 [A-G[I-M]]av[a-d]\n",
    "[a-e&&[c-p]]|a到e和c到p的交集|Java 匹配 [A-P&&[I-M]]av[a-d]\n",
    "\\d|个位数,等同于[0-9]|Java2 匹配 Java[\\\\\\d]\n",
    "\\D|一位非数字|$Java 匹配 [\\\\\\D][\\\\\\D]ava\n",
    "\\w|任何单词字符,包括下划线,等同于[A-Za-z0-9_]|Java1 匹配 [\\\\\\w]ava[\\\\\\w]\n",
    "\\W|任何非单词字符,等同于[^A-Za-z0-9_]|\\$Java 匹配 [\\\\\\W][\\\\\\w]ava\n",
    "\\s|空白字符,等同于[ \\\\t\\\\n\\\\r\\\\f]|Java2 匹配 Java\\\\\\s2\n",
    "\\S|非空白字符,等同于[^ \\\\t\\\\n\\\\r\\\\f]|Java 匹配 [\\\\\\S]ava\n",
    "p*|模式p的0或多次出现|aaaabb 匹配 a*bb, ababab 匹配 (ab)*\n",
    "p+|模式p的1或多次出现|a 匹配 a+b*, able 匹配 (ab)+.*\n",
    "p?|模式p的0或多次出现|Java 匹配 J?Java, Java 匹配 J?ava\n",
    "p{n}|模式p的正好n次出现|Java 匹配 Ja{1}.*, Java 不匹配 .{2}\n",
    "p{n,}|模式p的至少n次出现|aaaa 匹配 a{1,}，a 不匹配 a{2,}\n",
    "p{n,m} (词符中不能有空白)|模式p出现次数位于(n,m)之间|aaaa 匹配 a{1,9}，abb 不匹配 a{2,9}b"
   ]
  },
  {
   "cell_type": "markdown",
   "metadata": {},
   "source": [
    "**注意：**反斜杠是一个特殊字符，在字符串中开始转义序列。因此Java中需要用```\\\\d```来表示```\\d```\n",
    "\n",
    "即在 Java 的正则表达式中，两个```\\\\```代表其他语言中的一个```\\```，这也就是为什么表示一位数字的正则表达式是```\\\\d```，而表示一个普通的反斜杠是```\\\\\\\\```。"
   ]
  },
  {
   "cell_type": "markdown",
   "metadata": {},
   "source": [
    "**注意：**括号符```(```和```)```在正则表达式中是特殊字符，用于对模式**分组**。为了在正则表达式中表示<font color='dd0000'>字面值```(```或```)```</font>(而不是用于模式分组)，必须使用```\\\\```转义"
   ]
  },
  {
   "cell_type": "markdown",
   "metadata": {},
   "source": [
    "**注意：** ```[ ]```表示匹配的字符在```[ ]```中，并且只能出现一次，<font color='dd0000'>并且特殊字符写在```[ ]```会被当成普通字符来匹配。</font>例如```[(a)]```，会匹配```(、a、)```这三个字符。"
   ]
  },
  {
   "cell_type": "markdown",
   "metadata": {},
   "source": [
    "### 3. 替换和分割字符串"
   ]
  },
  {
   "cell_type": "code",
   "execution_count": 3,
   "metadata": {},
   "outputs": [
    {
     "data": {
      "text/plain": [
       "Jawi Jawi Jawi"
      ]
     },
     "execution_count": 3,
     "metadata": {},
     "output_type": "execute_result"
    }
   ],
   "source": [
    "\"Java Java Java\".replaceAll(\"v\\\\w\", \"wi\");"
   ]
  },
  {
   "cell_type": "code",
   "execution_count": 4,
   "metadata": {},
   "outputs": [
    {
     "data": {
      "text/plain": [
       "Jawi Java Java"
      ]
     },
     "execution_count": 4,
     "metadata": {},
     "output_type": "execute_result"
    }
   ],
   "source": [
    "\"Java Java Java\".replaceFirst(\"v\\\\w\", \"wi\");  // 只替换第一个匹配到的子字符串"
   ]
  },
  {
   "cell_type": "code",
   "execution_count": 5,
   "metadata": {},
   "outputs": [
    {
     "name": "stdout",
     "output_type": "stream",
     "text": [
      "Java HTML Perl "
     ]
    }
   ],
   "source": [
    "String[] tokens = \"Java1HTML2Perl\".split(\"\\\\d\");\n",
    "\n",
    "for(String item: tokens){\n",
    "    System.out.print(item + \" \");\n",
    "}"
   ]
  },
  {
   "cell_type": "code",
   "execution_count": 6,
   "metadata": {},
   "outputs": [
    {
     "name": "stdout",
     "output_type": "stream",
     "text": [
      "Java HTML2Perl "
     ]
    }
   ],
   "source": [
    "String[] tokens = \"Java1HTML2Perl\".split(\"\\\\d\", 2);  //给定第2个参数limit，则至多匹配limit-1次\n",
    "\n",
    "for(String item: tokens){\n",
    "    System.out.print(item + \" \");\n",
    "}"
   ]
  },
  {
   "cell_type": "markdown",
   "metadata": {},
   "source": [
    "**注意：**默认的，所有的量词符都是<font color='dd0000'>贪婪</font>的，这意味着它们会尽量匹配可能的最多次。例如："
   ]
  },
  {
   "cell_type": "code",
   "execution_count": 7,
   "metadata": {},
   "outputs": [
    {
     "data": {
      "text/plain": [
       "JRvaa"
      ]
     },
     "execution_count": 7,
     "metadata": {},
     "output_type": "execute_result"
    }
   ],
   "source": [
    "\"Jaaavaa\".replaceFirst(\"a+\", \"R\");"
   ]
  },
  {
   "cell_type": "markdown",
   "metadata": {},
   "source": [
    "它会尽可能多地匹配多个 a "
   ]
  },
  {
   "cell_type": "markdown",
   "metadata": {},
   "source": [
    "可以通过在后面添加**问号**来改变量词符的默认行为，使之变为<font color='dd0000'>不情愿的</font>，这意味着将匹配尽可能少的次数："
   ]
  },
  {
   "cell_type": "code",
   "execution_count": 8,
   "metadata": {
    "scrolled": true
   },
   "outputs": [
    {
     "data": {
      "text/plain": [
       "JRaavaa"
      ]
     },
     "execution_count": 8,
     "metadata": {},
     "output_type": "execute_result"
    }
   ],
   "source": [
    "\"Jaaavaa\".replaceFirst(\"a+?\", \"R\");"
   ]
  },
  {
   "cell_type": "markdown",
   "metadata": {},
   "source": [
    "### 4. java.util.regex"
   ]
  },
  {
   "cell_type": "markdown",
   "metadata": {},
   "source": [
    "```java.util.regex```包主要包括三个类：```Pattern```类、```Matcher```类和```PatternSyntaxException```类。"
   ]
  },
  {
   "cell_type": "markdown",
   "metadata": {},
   "source": [
    "#### 4.1 捕获组"
   ]
  },
  {
   "cell_type": "markdown",
   "metadata": {},
   "source": [
    "捕获组可以通过从左到右计算其开括号来编号，编号是从1开始的。例如，在表达式```((A)(B(C)))```中，存在四个这样的组：\n",
    "\n",
    "0        ```((A)(B(C)))```<br/>\n",
    "1        ```(A)```<br/>\n",
    "2        ```(B(C))```<br/>\n",
    "3        ```(C)```<br/>\n",
    "\n",
    "\n",
    "以 (?) 开头的组是纯的非捕获组，它不捕获文本，也不针对组合计进行计数。"
   ]
  },
  {
   "cell_type": "markdown",
   "metadata": {},
   "source": [
    "#### 4.2 Pattern类和 Matcher类"
   ]
  },
  {
   "cell_type": "markdown",
   "metadata": {},
   "source": [
    "> ```Pattern.complie(String regex)```: Pattern类用于创建一个正则表达式，也可以说创建一个匹配模式，它的构造方法是私有的，不可以直接创建，但可以通过此方法创建一个正则表达式"
   ]
  },
  {
   "cell_type": "code",
   "execution_count": 9,
   "metadata": {},
   "outputs": [],
   "source": [
    "String regex = \"(\\\\D*)(\\\\d+)(.*)\";\n",
    "Pattern p = Pattern.compile(regex);"
   ]
  },
  {
   "cell_type": "markdown",
   "metadata": {},
   "source": [
    "> ```Pattern.pattern()```：返回正则表达式的字符串形式，即```Pattern.complile(String regex)```的```regex```参数"
   ]
  },
  {
   "cell_type": "code",
   "execution_count": 10,
   "metadata": {},
   "outputs": [
    {
     "data": {
      "text/plain": [
       "(\\D*)(\\d+)(.*)"
      ]
     },
     "execution_count": 10,
     "metadata": {},
     "output_type": "execute_result"
    }
   ],
   "source": [
    "p.pattern()"
   ]
  },
  {
   "cell_type": "markdown",
   "metadata": {},
   "source": [
    ">```Pattern.split(CharSequence input)```：用于分隔字符串,并返回一个String\\[]。```String.split()```内部是通过编译 Pattern 来分隔字符串的，如果参数用正则表达式，且要频繁分隔的话，最好使用 Pattern 的 split 方法。"
   ]
  },
  {
   "cell_type": "code",
   "execution_count": 11,
   "metadata": {},
   "outputs": [
    {
     "name": "stdout",
     "output_type": "stream",
     "text": [
      "My phone number is /, and I'm / years old./"
     ]
    }
   ],
   "source": [
    "Pattern p_num = Pattern.compile(\"\\\\d+\");\n",
    "String[] str = p_num.split(\"My phone number is 445566, and I'm 22 years old.\");\n",
    "\n",
    "for(String s: str){\n",
    "    System.out.print(s + \"/\");\n",
    "}"
   ]
  },
  {
   "cell_type": "markdown",
   "metadata": {},
   "source": [
    ">```Pattern.matches(String regex, CharSequence input)```：是一个<font color='dd0000'>静态方法</font>，用于快速匹配字符串,该方法适合用于只匹配一次,且匹配全部字符串"
   ]
  },
  {
   "cell_type": "code",
   "execution_count": 12,
   "metadata": {},
   "outputs": [
    {
     "data": {
      "text/plain": [
       "true"
      ]
     },
     "execution_count": 12,
     "metadata": {},
     "output_type": "execute_result"
    }
   ],
   "source": [
    "Pattern.matches(\"\\\\d+\", \"123456\");"
   ]
  },
  {
   "cell_type": "code",
   "execution_count": 13,
   "metadata": {},
   "outputs": [
    {
     "data": {
      "text/plain": [
       "false"
      ]
     },
     "execution_count": 13,
     "metadata": {},
     "output_type": "execute_result"
    }
   ],
   "source": [
    "Pattern.matches(\"[a-m]\", \"xyz\");"
   ]
  },
  {
   "cell_type": "markdown",
   "metadata": {},
   "source": [
    ">```Pattern.matcher(CharSequence input)```返回一个**Matcher对象**\n",
    "\n",
    "    Matcher类的构造方法也是私有的,不能随意创建,只能通过上述方法得到该类的实例\n",
    "\n",
    "    Pattern类只能做一些简单的匹配操作,要想得到更强更便捷的正则匹配操作,那就需要将Pattern与Matcher一起合作\n",
    "\n",
    "    Matcher类提供了对正则表达式的分组支持,以及对正则表达式的多次匹配支持"
   ]
  },
  {
   "cell_type": "code",
   "execution_count": 14,
   "metadata": {},
   "outputs": [
    {
     "data": {
      "text/plain": [
       "\\d+"
      ]
     },
     "execution_count": 14,
     "metadata": {},
     "output_type": "execute_result"
    }
   ],
   "source": [
    "Pattern pp = Pattern.compile(\"\\\\d+\");\n",
    "Matcher mm = pp.matcher(\"22bb23\");\n",
    "mm.pattern();  // 返回pp,也就是返回该Matcher对象是由哪个Pattern对象的创建的 "
   ]
  },
  {
   "cell_type": "markdown",
   "metadata": {},
   "source": [
    ">```Matcher.matches()```、 ```Matcher.lookingAt()```、```Matcher.find()```：Matcher类提供三个匹配操作方法,三个方法均返回boolean类型,当匹配到时返回true,没匹配到则返回false \n",
    "\n",
    ">```matches()```对整个字符串进行匹配,只有整个字符串都匹配了才返回true \n",
    "\n",
    ">```lookingAt()```只对开头的字符串进行匹配\n",
    "\n",
    ">```find()```对字符串进行匹配，在任何位置匹配到了就返回true，可以不断匹配用来进行循环"
   ]
  },
  {
   "cell_type": "code",
   "execution_count": 15,
   "metadata": {},
   "outputs": [
    {
     "data": {
      "text/plain": [
       "false"
      ]
     },
     "execution_count": 15,
     "metadata": {},
     "output_type": "execute_result"
    }
   ],
   "source": [
    "// matches()对整个字符串进行匹配,只有整个字符串都匹配了才返回true \n",
    "\n",
    "mm.matches();"
   ]
  },
  {
   "cell_type": "code",
   "execution_count": 16,
   "metadata": {},
   "outputs": [
    {
     "data": {
      "text/plain": [
       "true"
      ]
     },
     "execution_count": 16,
     "metadata": {},
     "output_type": "execute_result"
    }
   ],
   "source": [
    "// lookingAt()对前面的字符串进行匹配,只有匹配到的字符串在最前面才返回true \n",
    "\n",
    "mm.lookingAt();  // 返回true，因为\\d+匹配到了前面的22"
   ]
  },
  {
   "cell_type": "code",
   "execution_count": 17,
   "metadata": {},
   "outputs": [
    {
     "data": {
      "text/plain": [
       "true"
      ]
     },
     "execution_count": 17,
     "metadata": {},
     "output_type": "execute_result"
    }
   ],
   "source": [
    "// find()对字符串进行匹配,匹配到的字符串可以在任何位置\n",
    "\n",
    "mm.find();"
   ]
  },
  {
   "cell_type": "markdown",
   "metadata": {},
   "source": [
    ">```Mathcer.start()```、```Matcher.end()```、``` Matcher.group()```：当使用```matches()```,```lookingAt()```,```find()```执行匹配操作后,就可以利用这三个方法得到更详细的信息\n",
    "\n",
    ">```start()```返回匹配到的子字符串的第一个字符在字符串中的索引\n",
    "\n",
    ">```end()```返回匹配到的子字符串的最后一个字符在字符串中的索引+1\n",
    "\n",
    ">```group()```返回匹配到的子字符串 "
   ]
  },
  {
   "cell_type": "code",
   "execution_count": 18,
   "metadata": {},
   "outputs": [
    {
     "name": "stdout",
     "output_type": "stream",
     "text": [
      "true\n",
      "3\n",
      "7\n",
      "2223\n"
     ]
    }
   ],
   "source": [
    "Pattern p1 = Pattern.compile(\"\\\\d+\");\n",
    "Matcher m1 = p1.matcher(\"aaa2223bb\");\n",
    "\n",
    "System.out.println(m1.find());  // 使用find()方法匹配整个字符串\n",
    "System.out.println(m1.start());  // 匹配到的子字符串的第一个字符的索引：3\n",
    "System.out.println(m1.end());    // 返回匹配到的子字符串的最后一个字符的索引+1：7\n",
    "System.out.println(m1.group());  // 返回匹配到的字符串"
   ]
  },
  {
   "cell_type": "code",
   "execution_count": 19,
   "metadata": {},
   "outputs": [
    {
     "name": "stdout",
     "output_type": "stream",
     "text": [
      "true\n",
      "0\n",
      "3\n",
      "222\n"
     ]
    }
   ],
   "source": [
    "Matcher m2 = p1.matcher(\"222x3bb\");\n",
    "\n",
    "System.out.println(m2.lookingAt()); // 使用lookingAt()只匹配开头的字符串\n",
    "System.out.println(m2.start());  // 因为始终匹配开头，所以start()总是返回0\n",
    "System.out.println(m2.end()); // 返回3\n",
    "System.out.println(m2.group());  // 返回222"
   ]
  },
  {
   "cell_type": "code",
   "execution_count": 20,
   "metadata": {},
   "outputs": [
    {
     "name": "stdout",
     "output_type": "stream",
     "text": [
      "true\n",
      "0\n",
      "6\n",
      "abc12t\n"
     ]
    }
   ],
   "source": [
    "Pattern p3 = Pattern.compile(\"\\\\w+\\\\d+.*\");\n",
    "Matcher m3 = p3.matcher(\"abc12t\");\n",
    "\n",
    "System.out.println(m3.matches());  // 整个字符串匹配上，返回true\n",
    "System.out.println(m3.start());\n",
    "System.out.println(m3.end());\n",
    "System.out.println(m3.group());"
   ]
  },
  {
   "cell_type": "markdown",
   "metadata": {},
   "source": [
    ">```start()```、```end()```、```group()```均有一个重载方法，它们是```start(int i)```、```end(int i)```、```group(int i)```专用于分组操作，Mathcer类还有一个```groupCount()```用于返回有多少组"
   ]
  },
  {
   "cell_type": "code",
   "execution_count": 21,
   "metadata": {},
   "outputs": [
    {
     "name": "stdout",
     "output_type": "stream",
     "text": [
      "是否匹配：true\n",
      "一共有多少组：2\n",
      "第0组的匹配：aaa2223\n",
      "第1组的匹配；aaa\n",
      "第2组的匹配：2223\n",
      "第1组匹配到的start索引：0\n",
      "第2组匹配到的start索引：3\n",
      "第1组匹配到的end索引：3\n",
      "第2组匹配到的end索引：7\n"
     ]
    }
   ],
   "source": [
    "Pattern p4 = Pattern.compile(\"([a-z]+)(\\\\d+)\");  // 带分组的正则表达式\n",
    "Matcher m4 = p4.matcher(\"aaa2223bb\");\n",
    "\n",
    "// 先进行匹配\n",
    "System.out.println(\"是否匹配：\" + m4.find());\n",
    "// groupCount()方法，返回有多少个组\n",
    "System.out.println(\"一共有多少组：\" + m4.groupCount());\n",
    "// 返回各组匹配到的字符串\n",
    "System.out.println(\"第0组的匹配：\" + m4.group(0));\n",
    "System.out.println(\"第1组的匹配；\" + m4.group(1));\n",
    "System.out.println(\"第2组的匹配：\" + m4.group(2));\n",
    "// 返回各组匹配到的字符串的start()\n",
    "System.out.println(\"第1组匹配到的start索引：\" + m4.start(1));\n",
    "System.out.println(\"第2组匹配到的start索引：\" + m4.start(2));\n",
    "// 返回各组匹配到的字符串的end()\n",
    "System.out.println(\"第1组匹配到的end索引：\" + m4.end(1));\n",
    "System.out.println(\"第2组匹配到的end索引：\" + m4.end(2));"
   ]
  },
  {
   "cell_type": "code",
   "execution_count": 22,
   "metadata": {},
   "outputs": [
    {
     "name": "stdout",
     "output_type": "stream",
     "text": [
      "Found value: This order was placed for QT3000! OK?\n",
      "Found value: This order was placed for QT\n",
      "Found value: 3000\n",
      "Found value: ! OK?\n"
     ]
    }
   ],
   "source": [
    "// 示例1\n",
    "\n",
    "// 按指定模式在字符串查找\n",
    "      String line = \"This order was placed for QT3000! OK?\";\n",
    "      String pattern = \"(\\\\D*)(\\\\d+)(.*)\";  // 正则表达式有分组\n",
    " \n",
    "      // 创建 Pattern 对象\n",
    "      Pattern r = Pattern.compile(pattern);\n",
    " \n",
    "      // 现在创建 matcher 对象，通过Pattern的matcher方法\n",
    "      Matcher m = r.matcher(line);\n",
    "      if (m.find( )) {\n",
    "         System.out.println(\"Found value: \" + m.group(0) );\n",
    "         System.out.println(\"Found value: \" + m.group(1) );\n",
    "         System.out.println(\"Found value: \" + m.group(2) );\n",
    "         System.out.println(\"Found value: \" + m.group(3) ); \n",
    "      } else {\n",
    "         System.out.println(\"NO MATCH\");\n",
    "      }"
   ]
  },
  {
   "cell_type": "code",
   "execution_count": 23,
   "metadata": {},
   "outputs": [
    {
     "name": "stdout",
     "output_type": "stream",
     "text": [
      "-----第1个匹配-----\n",
      "22\n",
      "start: 4 end: 6\n",
      "-----第2个匹配-----\n",
      "46\n",
      "start: 33 end: 35\n",
      "-----第3个匹配-----\n",
      "77777\n",
      "start: 37 end: 42\n"
     ]
    }
   ],
   "source": [
    "// 示例2，用find()做循环\n",
    "\n",
    "Pattern ppp = Pattern.compile(\"\\\\d+\");\n",
    "Matcher mmm = ppp.matcher(\"I'm 22 years old, I love Nogizaka46, 77777 is my number.\");\n",
    "int i = 1;\n",
    "\n",
    "while(mmm.find()){\n",
    "    System.out.println(\"-----第\" + i + \"个匹配-----\");\n",
    "    System.out.println(mmm.group());\n",
    "    System.out.print(\"start: \" + mmm.start());\n",
    "    System.out.println(\" end: \"+ mmm.end());\n",
    "    i++;\n",
    "}"
   ]
  }
 ],
 "metadata": {
  "kernelspec": {
   "display_name": "Java",
   "language": "java",
   "name": "java"
  },
  "language_info": {
   "codemirror_mode": "java",
   "file_extension": ".jshell",
   "mimetype": "text/x-java-source",
   "name": "Java",
   "pygments_lexer": "java",
   "version": "12.0.2+10"
  }
 },
 "nbformat": 4,
 "nbformat_minor": 2
}
