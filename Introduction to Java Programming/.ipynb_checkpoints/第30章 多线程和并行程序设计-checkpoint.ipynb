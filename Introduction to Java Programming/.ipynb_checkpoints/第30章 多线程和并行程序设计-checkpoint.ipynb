{
 "cells": [
  {
   "cell_type": "markdown",
   "metadata": {},
   "source": [
    "<center><font size=5>第30章 多线程和并行程序设计</font></center>"
   ]
  },
  {
   "cell_type": "markdown",
   "metadata": {},
   "source": [
    "多线程使得程序中的多个任务可以同时执行\n",
    "\n",
    "在许多程序设计语言中，多线程都是通过调用依赖于系统的过程或函数来实现的"
   ]
  },
  {
   "cell_type": "markdown",
   "metadata": {},
   "source": [
    "<center><font size=4>30.2 线程的概念</font></center>"
   ]
  },
  {
   "cell_type": "markdown",
   "metadata": {},
   "source": [
    "一个程序可能包含多个可以同时运行的任务，<font color='dd0000'>线程是指一个任务从头至尾的执行流程。</font>\n",
    "\n",
    "对于Java而言，可以在一个程序中并发地启动多个线程，这些线程可以在多处理器系统上同时运行\n",
    "\n",
    "在单处理器系统中，多个线程共享CPU时间称为*时分复用*，操作系统负责调度及分配资源给它们。这种安排可行，因为CPU的大部分时间都是空闲的，例如在等待用户输入数据时，CPU什么也不做\n",
    "\n",
    "多线程可以使程序<font color='dd0000'>反应更快、交互性更强、执行效率更高</font>。例如：一个好的文字处理程序允许在输入文字的同时，打印或者保存文件"
   ]
  },
  {
   "cell_type": "markdown",
   "metadata": {},
   "source": [
    "![](MultiThread.png)"
   ]
  },
  {
   "cell_type": "markdown",
   "metadata": {},
   "source": [
    "可以在程序中创建附加的线程以执行并发任务。在Java中，<font color='dd0000'>每个**任务**都是```Runnable```接口的一个实例</font>，也称为<font color='dd0000'>*可运行对象*</font>。线程本质上就是便于任务执行的对象。"
   ]
  },
  {
   "cell_type": "markdown",
   "metadata": {},
   "source": [
    "<center><font size=4>30.3 创建任务和线程</font></center>"
   ]
  },
  {
   "cell_type": "markdown",
   "metadata": {},
   "source": [
    "一个**任务类**必须实现```Runnable```接口，任务必须从线程运行。"
   ]
  },
  {
   "cell_type": "markdown",
   "metadata": {},
   "source": [
    "<font color='dd0000'>开发一个任务类的模板：</font>"
   ]
  },
  {
   "cell_type": "markdown",
   "metadata": {},
   "source": [
    "![](TaskClass.png)"
   ]
  },
  {
   "cell_type": "markdown",
   "metadata": {},
   "source": [
    "一旦定义了一个```TaskClass```，就可以用它的构造方法```TaskClass task = new TaskClass(...)```来<font color='dd0000'>创建一个任务</font>\n",
    "\n",
    "任务必须在线程中执行，所以创建一个该任务的线程```Thread thread = new Thread(task)```\n",
    "\n",
    "然后运行该线程```thread.start()```\n",
    "\n",
    "Java虚拟机自动通过调用任务的```run()```方法执行任务，无需特意调用它"
   ]
  },
  {
   "cell_type": "markdown",
   "metadata": {},
   "source": [
    "<center><font size=4>30.4 Thread类</font></center>"
   ]
  },
  {
   "cell_type": "markdown",
   "metadata": {},
   "source": [
    "Thread类包含为任务而创建的线程的构造方法以及<font color='dd0000'>控制线程</font>的方法"
   ]
  },
  {
   "cell_type": "markdown",
   "metadata": {},
   "source": [
    "![](Thread.png)"
   ]
  },
  {
   "cell_type": "markdown",
   "metadata": {},
   "source": [
    "Thread类还包含方法```stop()```、```suspend()```、```resume()```，但这些方法存在不安全因素。为替代方法```stop()```的使用，可以给*Thread*变量赋值*null*来表明它已经停止。"
   ]
  },
  {
   "cell_type": "markdown",
   "metadata": {},
   "source": [
    "使用```yield()```方法为其他线程临时让出CPU时间\n",
    "\n",
    "```sleep(long millis)```可以将该线程设置为休眠以确保其他线程的执行，参数为指定的毫秒数。<font color='dd0000'>```sleep```方法可能抛出一个```InterruptedException```异常，这是一个必检异常</font>。当一个休眠线程的```interrupt()```方法被调用时，就会发生这样一个异常。因此必须将它放到```try-catch```块中\n",
    "\n",
    "```join()```方法使一个线程等待另一个线程(调用```join```的线程)的结束。此方法也必须处理```InterruptedException```异常"
   ]
  },
  {
   "cell_type": "markdown",
   "metadata": {},
   "source": [
    "Java给每个线程指定一个优先级。默认情况下，线程继承生成它的线程的优先级。可以使用```setPriority```方法提高或降低线程的优先级，还能用```getPriority```获取线程的优先级。优先级是从1到10的数字。**Thread**类有*int*型常量```MIN_PRIORITY```、```NORM_PRIORITY```、```MAX_PRIORITY```，分表表示1、5和10.**主线程**的优先级是```Thread.NORM_PRIORITY```\n",
    "\n",
    "Java虚拟机总是选择当前优先级最高的可运行线程。较低优先级的线程只有在没有比它更高的优先级的线程运行时才能运行。如果所有可运行线程具有相同的优先级，那将会用**循环队列**给它们分配相同的CPU份额，这被称为<font color='dd0000'>循环调度</font>"
   ]
  },
  {
   "cell_type": "markdown",
   "metadata": {},
   "source": [
    "<center><font size=4>30.6 线程池</font></center>"
   ]
  },
  {
   "cell_type": "markdown",
   "metadata": {},
   "source": [
    "可以使用<font color='dd0000'>线程池</font>来高效执行任务。"
   ]
  },
  {
   "cell_type": "markdown",
   "metadata": {},
   "source": [
    "用```new Thread(task).start()```来创建线程运行任务对单一任务执行比较方便，但时由于必须为每一个任务都创建一个线程，对于大量的任务而言是不够高效的。为每个任务开始一个新线程可能会限制吞吐量并且造成性能降低。\n",
    "\n",
    "<font color='dd0000'>**线程池**</font>是管理并发执行任务个数的理想方法。Java提供<font color='dd0000'>*Executor*接口</font>来执行线程池中的任务，提供<font color='dd0000'>*ExecutorService*接口</font>来管理和控制任务。<font color='dd0000'>*ExecutorService*接口</font>是<font color='dd0000'>*Executor*接口</font>的子接口"
   ]
  },
  {
   "cell_type": "markdown",
   "metadata": {},
   "source": [
    "![](Executor.png)"
   ]
  },
  {
   "cell_type": "markdown",
   "metadata": {},
   "source": [
    "为了<font color='dd0000'>创建</font>一个***Executor***对象，可以使用<font color='dd0000'>*Executors*类</font>中的静态方法\n",
    "\n",
    "```newFixedThreadPool(int)```方法在池中创建固定数目的线程。\n",
    "\n",
    "- 如果线程完成了任务的执行，它可以被重新使用以执行另一个任务；\n",
    "\n",
    "\n",
    "- 如果线程池中所有的线程都不是处于空闲状态，而且有任务在等待执行，那么在关闭之前，如果由于一个错误终止了一个线程，就会创建一个新线程来代替它；\n",
    "\n",
    "\n",
    "- 如果线程池中所有的线程都不是处于空闲状态，而且有任务在等待执行，那么```newCachedThreadPool()```方法就会创建一个新线程。如果**缓冲池**中的线程在60秒内都没有被使用就该终止它"
   ]
  },
  {
   "cell_type": "markdown",
   "metadata": {},
   "source": [
    "<center><font size=4>30.7 线程同步</font></center>"
   ]
  },
  {
   "cell_type": "markdown",
   "metadata": {},
   "source": [
    "线程同步用于协调相互依赖的线程的执行"
   ]
  },
  {
   "cell_type": "markdown",
   "metadata": {},
   "source": [
    "<font color='dd0000'>如果一个共享资源被多个线程同时访问，可能会遭到破坏</font>"
   ]
  },
  {
   "cell_type": "markdown",
   "metadata": {},
   "source": [
    "以一种会引起冲突的方式访问一个公共资源，这是多线程程序中的一个普遍问题，称为<font color='dd0000'>竞争状态(race condition)</font>。如果一个**类的对象**在多线程程序中没有导致竞争状态，则称这样的类为<font color='dd0000'>线程安全(thread-safe)</font>的"
   ]
  },
  {
   "cell_type": "markdown",
   "metadata": {},
   "source": [
    "<center><font size=3>30.7.1 synchronized关键字"
   ]
  },
  {
   "cell_type": "markdown",
   "metadata": {},
   "source": [
    "为避免竞争状态，<font color='dd0000'>应该防止多个线程同时进入程序的某一特定部分</font>，程序中的这部分称为**临界区(critical region)**。\n",
    "\n",
    "可以使用关键字<font color='dd0000'>**synchronized**</font>来<font color='dd0000'>同步**方法**</font>。"
   ]
  },
  {
   "cell_type": "markdown",
   "metadata": {},
   "source": [
    "一个同步方法在执行之前需要<font color='dd0000'>**加锁**</font>。**锁**是一种实现资源排他使用的机制。对于实例方法，要给调用该方法的对象加锁，对于静态方法，要给这个类加锁。\n",
    "\n",
    "如果一个线程调用一个对象上的同步实例方法(静态方法)，首先给该对象(类)**加锁**，然后执行该方法，最后**解锁**。在解锁之前，另一个调用那个对象(类)中方法的线程将被阻塞，直到解锁。"
   ]
  },
  {
   "cell_type": "markdown",
   "metadata": {},
   "source": [
    "<center><font size=3>30.7.2 同步语句"
   ]
  },
  {
   "cell_type": "markdown",
   "metadata": {},
   "source": [
    "调用一个对象上的同步实例方法，需要给该对象加锁；而调用一个类上的同步静态方法需要给该类加锁。\n",
    "\n",
    "当指向方法中的某一格代码块时，同步语句不仅可用于对this对象加锁，而且可用于对任何对象加锁。这个代码块称为<font color='dd0000'>同步块(synchronized block)</font>"
   ]
  },
  {
   "cell_type": "markdown",
   "metadata": {},
   "source": [
    "同步语句的一般形式:\n",
    "```\n",
    "synchronized (expr){\n",
    "    statements;\n",
    "}\n",
    "```"
   ]
  },
  {
   "cell_type": "markdown",
   "metadata": {},
   "source": [
    "表达式```expr```求值的结果必须是一个对象的引用。如果对象已经被另一个线程锁定，则在解锁之前，该线程将被阻塞。当获准对一个对象加锁时，该线程执行同步块中的语句，然后解除给对象所加的锁。\n",
    "\n",
    "同步语句允许设置同步方法中的部分代码，而不必是整个方法"
   ]
  },
  {
   "cell_type": "markdown",
   "metadata": {},
   "source": [
    "任何同步的实例方法都可以转换为同步语句，例如下面两种等价\n",
    "```\n",
    "public synchronized void xMethod(){\n",
    "\n",
    "}\n",
    "```\n",
    "```\n",
    "public void xMethod(){\n",
    "  synchronized(this){\n",
    "    \n",
    "  }\n",
    "}\n",
    "```"
   ]
  },
  {
   "cell_type": "markdown",
   "metadata": {},
   "source": [
    "<center><font size=4>30.8 利用加锁同步</font></center>"
   ]
  },
  {
   "cell_type": "markdown",
   "metadata": {},
   "source": [
    "<font color='dd0000'>可以显示地采用锁和状态来同步线程</font>"
   ]
  },
  {
   "cell_type": "markdown",
   "metadata": {},
   "source": [
    "同步的实例方法在执行方法之前都**隐式**地需要一个加在**实例**上的锁\n",
    "\n",
    "Java可以显式地加锁，一个锁是一个<font color='dd0000'>**Lock接口**</font>的实例，它定义了**加锁和释放锁的方法**，锁也可以使用```newCondition()```方法来创建任意个数的***Condition对象***，用来进行<font color='dd0000'>线程通信</font>"
   ]
  },
  {
   "cell_type": "markdown",
   "metadata": {},
   "source": [
    "![](ReentrantLock.png)"
   ]
  },
  {
   "cell_type": "markdown",
   "metadata": {},
   "source": [
    "**ReentrantLock**是**Lock**的一个具体实现，用于创建互相排斥的锁。\n",
    "\n",
    "可以创建具有特定*公平策略*的锁，，若*fair*为*true*，则确保等待时间最长的线程首先获得锁。被多个线程访问的使用公平锁的程序，其整体性能可能比那些使用默认设置的差"
   ]
  },
  {
   "cell_type": "markdown",
   "metadata": {},
   "source": [
    "通常，使用*synchronized*方法或语句比使用相互排斥的显式锁简单些，然而，<font color='dd0000'>使用显式锁对同步**具有状态的线程**更加直观和灵活</font>"
   ]
  },
  {
   "cell_type": "markdown",
   "metadata": {},
   "source": [
    "<center><font size=4>30.9 线程间协作</font></center>"
   ]
  },
  {
   "cell_type": "markdown",
   "metadata": {},
   "source": [
    "<font color='dd0000'>锁的***condition***可以用于协调线程之间的交互</font>"
   ]
  },
  {
   "cell_type": "markdown",
   "metadata": {},
   "source": [
    "通过保证在临界区上多个线程的相互排斥，线程同步完全可以避免竞争条件的发生。<font color='dd0000'>但有时候还需要进程之间的相互协作</font>\n",
    "\n",
    "可以用**condition**(条件)实现线程间<font color='dd0000'>通信</font>\n",
    "\n",
    "一个线程可以指定 在某种条件下该做什么\n",
    "\n",
    "条件是通过调用***Lock对象***的```newCondition()```方法而创建的**对象**\n",
    "\n",
    "一旦创建了条件，据可以使用```await()```、```siganl()```、```signallAll()```方法来实现线程之间的相互通信"
   ]
  },
  {
   "cell_type": "markdown",
   "metadata": {},
   "source": [
    "![](Condition.png)"
   ]
  },
  {
   "cell_type": "markdown",
   "metadata": {},
   "source": [
    "```await()```方法可以让当前线程进入**等待**，<font color='dd0000'>直到条件发生</font>\n",
    "\n",
    "```signal()```方法唤醒一个等待的线程\n",
    "\n",
    "```signalAll()```方法唤醒所有等待的线程"
   ]
  },
  {
   "cell_type": "markdown",
   "metadata": {},
   "source": [
    "一旦线程调用*condition*上的```await()```，线程就进入等待状态，等待恢复的信号。如果忘记调用```signal()或signalAll()```，那么线程将永远等待下去"
   ]
  },
  {
   "cell_type": "markdown",
   "metadata": {},
   "source": [
    "<font color='dd0000'>*Condition*由*Lock*对象创建</font>，为了调用它的方法(```await()```等)，必须先拥有锁。<font color='dd0000'>如果没有获取锁就调用这些方法</font>，会抛出```IllegalMonitorStateException```"
   ]
  },
  {
   "cell_type": "markdown",
   "metadata": {},
   "source": [
    "![](monitor1.png)"
   ]
  },
  {
   "cell_type": "markdown",
   "metadata": {},
   "source": [
    "![](monitor2.png)"
   ]
  },
  {
   "cell_type": "markdown",
   "metadata": {},
   "source": [
    "<center><font size=4>30.11 阻塞队列</font></center>"
   ]
  },
  {
   "cell_type": "markdown",
   "metadata": {},
   "source": [
    "Java合集框架提供了```ArrayBlockingQueue```、```LinkedBlockingQueue```、```PriorityBlockingQueue```来支持<font color='dd0000'>阻塞队列</font>"
   ]
  },
  {
   "cell_type": "markdown",
   "metadata": {},
   "source": [
    "<font color='dd0000'>阻塞队列(blocking queue)</font>在试图向一个满队列添加元素或者从空队列删除元素时会导致线程阻塞。\n",
    "\n",
    "```BlockingQueue```**接口**继承了```java.util.Queue```，并且提供同步的方法```put和take```添加和删除元素"
   ]
  },
  {
   "cell_type": "markdown",
   "metadata": {},
   "source": [
    "![](BlockingQueue.png)"
   ]
  },
  {
   "cell_type": "markdown",
   "metadata": {},
   "source": [
    "三个**具体的阻塞队列类**都在```java.util.concurrent```包中\n",
    "\n",
    "```ArrayBlockingQueue```使用数组实现阻塞队列，<font color='dd0000'>必须指定一个容量和可选的公平策略来构造对象</font>\n",
    "\n",
    "```LinkedBlockingQueue```使用链表实现阻塞队列，可以创建无边界或有边界的\n",
    "\n",
    "```PriorityBlockingQueue```是优先队列，可以创建无边界或有边界的"
   ]
  },
  {
   "cell_type": "markdown",
   "metadata": {},
   "source": [
    "![](BlockingQueueClass.png)"
   ]
  },
  {
   "cell_type": "markdown",
   "metadata": {},
   "source": [
    "<center><font size=4>30.12 信号量</font></center>"
   ]
  },
  {
   "cell_type": "markdown",
   "metadata": {},
   "source": [
    "可以使用<font color='dd0000'>信号量</font>来限制访问一个共享资源的线程数"
   ]
  },
  {
   "cell_type": "markdown",
   "metadata": {},
   "source": [
    "<font color='dd0000'>信号量</font>是指对共同资源进行访问控制的对象，在访问资源之前，线程必须从信号量获取**许可**，在访问完资源之后，这个线程必须将许可返回给信号量"
   ]
  },
  {
   "cell_type": "markdown",
   "metadata": {},
   "source": [
    "![](semaphore.png)"
   ]
  },
  {
   "cell_type": "markdown",
   "metadata": {},
   "source": [
    "![](semaphoreclass.png)"
   ]
  },
  {
   "cell_type": "markdown",
   "metadata": {},
   "source": [
    "只有一个许可的信号量可以用来模拟一个相互排斥的锁"
   ]
  },
  {
   "cell_type": "markdown",
   "metadata": {},
   "source": [
    "<center><font size=4>30.13 死锁</font></center>"
   ]
  },
  {
   "cell_type": "markdown",
   "metadata": {},
   "source": [
    "可以采用正确的<font color='dd0000'>资源排序</font>来避免死锁"
   ]
  },
  {
   "cell_type": "markdown",
   "metadata": {},
   "source": [
    "![](deadlock1.png)"
   ]
  },
  {
   "cell_type": "markdown",
   "metadata": {},
   "source": [
    "![](deadlock2.png)"
   ]
  },
  {
   "cell_type": "markdown",
   "metadata": {},
   "source": [
    "<center><font size=4>30.14 线程状态</font></center>"
   ]
  },
  {
   "cell_type": "markdown",
   "metadata": {},
   "source": [
    "线程状态可以表明一个线程的状态\n",
    "\n",
    "任务在线程中执行，线程可以是以下5种状态之一：<font color='dd0000'>新建、就绪、运行、阻塞、结束</font>"
   ]
  },
  {
   "cell_type": "markdown",
   "metadata": {},
   "source": [
    "![](threadstatus.png)"
   ]
  },
  {
   "cell_type": "markdown",
   "metadata": {},
   "source": [
    "***Thread*类**中的```isAlive()```方法用来判断线程状态。如果线程处于<font color='dd0000'>就绪、阻塞或运行状态</font>，则返回*true*，如果处于<font color='dd0000'>新建且没有启动、或者结束</font>，返回*false*\n",
    "\n",
    "```interrupt()```方法按下列方式中断一个线程：\n",
    "\n",
    "当线程处于<font color='dd0000'>就绪或运行状态时</font>，给他设置一个中断标志；\n",
    "\n",
    "当线程处于<font color='dd0000'>阻塞状态时</font>，它被唤醒进入就绪状态，<font color='dd0000'>**同时抛出异常```java.lang.InterruptedException```**</font>"
   ]
  },
  {
   "cell_type": "markdown",
   "metadata": {},
   "source": [
    "<center><font size=4>30.15 同步合集</font></center>"
   ]
  },
  {
   "cell_type": "markdown",
   "metadata": {},
   "source": [
    "<font color='dd0000'>Java合集框架中的类不是线程安全的</font>，可以通过锁定合集或者同步合集来保护合集中的数据\n",
    "\n",
    "<font color='dd0000'>***Collections*类**提供6个静态方法将合集转成同步版本</font>，使用这些方法创建的合集称为**同步包装类**"
   ]
  },
  {
   "cell_type": "markdown",
   "metadata": {},
   "source": [
    "![](synchronizedCollection.png)"
   ]
  },
  {
   "cell_type": "markdown",
   "metadata": {},
   "source": [
    "同步合集可以很安全地被多个线程并发地访问和修改"
   ]
  },
  {
   "cell_type": "markdown",
   "metadata": {},
   "source": [
    "<font color='dd0000'>**注意：**</font>在```java.util.Vector、java.util.Stack、java.util.HashTable```中的方法已经被同步。从JDK1.5开始，应使用*ArrayList*替换*Vector*，*LinkedList*替换*Stack*，*Map*替换*HashTable*。如果需要同步，就使用同步包装类"
   ]
  },
  {
   "cell_type": "markdown",
   "metadata": {},
   "source": [
    "![](synchronizedIterator1.png)"
   ]
  },
  {
   "cell_type": "markdown",
   "metadata": {},
   "source": [
    "![](synchronizedIterator2.png)"
   ]
  },
  {
   "cell_type": "markdown",
   "metadata": {},
   "source": [
    "<center><font size=4>30.16 并行编程</font></center>"
   ]
  },
  {
   "cell_type": "markdown",
   "metadata": {},
   "source": [
    "<font color='dd0000'>***Fork/Join*框架**用于在Java中实现并行编程</font>"
   ]
  },
  {
   "cell_type": "markdown",
   "metadata": {},
   "source": [
    "![](ForkJoinTask.png)"
   ]
  },
  {
   "cell_type": "markdown",
   "metadata": {},
   "source": [
    "![](ForkJoinPool.png)"
   ]
  }
 ],
 "metadata": {
  "kernelspec": {
   "display_name": "Java",
   "language": "java",
   "name": "java"
  },
  "language_info": {
   "codemirror_mode": "java",
   "file_extension": ".jshell",
   "mimetype": "text/x-java-source",
   "name": "Java",
   "pygments_lexer": "java",
   "version": "12.0.2+10"
  }
 },
 "nbformat": 4,
 "nbformat_minor": 2
}
