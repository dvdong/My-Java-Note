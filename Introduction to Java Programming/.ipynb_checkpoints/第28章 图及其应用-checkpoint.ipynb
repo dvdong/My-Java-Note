{
 "cells": [
  {
   "cell_type": "markdown",
   "metadata": {},
   "source": [
    "<center><font size=5>第28章 图及其应用</font></center>"
   ]
  },
  {
   "cell_type": "markdown",
   "metadata": {},
   "source": [
    "<center><font size=4>28.2 基本的图术语</font></center>"
   ]
  },
  {
   "cell_type": "markdown",
   "metadata": {},
   "source": [
    "我们这样定义一个图：$G=(V, E)$，其中$V$代表顶点的集合，$E$代表边的集合\n",
    "\n",
    "- 图可以是有向的，也可以是无向的\n",
    "\n",
    "\n",
    "- 有向图中，每条边都有一个方向，表明沿着这条边从一个顶点移动到另一个顶点。可以用有向图来对父/子关系建模，其中从$A$到$B$的边表示$A$是$B$的父节点\n",
    "\n",
    "\n",
    "- 在无向图中，可以在顶点之间双向移动它们\n",
    "\n",
    "\n",
    "- 边可以是加权的，也可以是非加权的\n",
    "\n",
    "\n",
    "- 如果图中的两个顶点被同一条边连接，那么它们被称为<font color='dd0000'>相邻的(adjacent)</font>\n",
    "\n",
    "\n",
    "- 顶点的<font color='dd0000'>度(degree)</font>为与该顶点相连接的边的数量\n",
    "\n",
    "\n",
    "- 如果两个顶点是相邻的，那么它们互为邻居\n",
    "\n",
    "\n",
    "- 一个<font color='dd0000'>环(loop)</font>是一条将顶点连接到它自身的边\n",
    "\n",
    "\n",
    "- 如果两个<font color='dd0000'>顶点</font>可通过两条或者多条<font color='dd0000'>边</font>相连，这些<font color='dd0000'>边</font>就称为<font color='dd0000'>平行边(parallel edge)</font>\n",
    "\n",
    "\n",
    "- <font color='dd0000'>简单图(simple graph)</font>是指没有环和平行边的图\n",
    "\n",
    "\n",
    "- <font color='dd0000'>完全图(complete graph)</font>是指每一对顶点都相连的图\n",
    "\n",
    "\n",
    "- 如果图中任意两个顶点之间存在一条**路径**，该图称为<font color='dd0000'>连通的(connected)</font>\n",
    "\n",
    "\n",
    "- 一个图$G$的子图是如下的图：其顶点集合是$G$的子集，其边的集合是$G$的子集\n",
    "\n",
    "\n",
    "- 假设图是连通且无向的，<font color='dd0000'>回路(cycle)</font>是指始于一个顶点又终于同一顶点的封闭路径\n",
    "\n",
    "\n",
    "- 没有回路的连通图是一棵<font color='dd0000'>树(tree)</font>\n",
    "\n",
    "\n",
    "- 图的<font color='dd0000'>生成树(spanning tree)</font>是一个$G$的**连通子图**，该子图是包含$G$中**所有顶点**的树"
   ]
  },
  {
   "cell_type": "markdown",
   "metadata": {},
   "source": [
    "![](graph.png)"
   ]
  },
  {
   "cell_type": "markdown",
   "metadata": {},
   "source": [
    "<center><font size=4>28.3 表示图</font></center>"
   ]
  },
  {
   "cell_type": "markdown",
   "metadata": {},
   "source": [
    "表示图是在程序中存储它的顶点和边。存储图的数据结构是数组或线性表"
   ]
  },
  {
   "cell_type": "markdown",
   "metadata": {},
   "source": [
    "<center><font size=3>28.3.1 表示顶点"
   ]
  },
  {
   "cell_type": "markdown",
   "metadata": {},
   "source": [
    "顶点可以存储在数组或者线性表中，顶点可以是任意类型的对象\n",
    "\n",
    "对于一个拥有$n$个顶点的图，这$n$个顶点可以用自然数$0,1,2,3,…,n-1$来标注\n",
    "\n",
    "可以通过顶点的名字或索引来引用顶点，显然，<font color='dd0000'>在程序中通过索引访问顶点是很容易的</font>"
   ]
  },
  {
   "cell_type": "markdown",
   "metadata": {},
   "source": [
    "<center><font size=3>28.3.2 表示边：边数组"
   ]
  },
  {
   "cell_type": "markdown",
   "metadata": {},
   "source": [
    "边可以用二维数组来表示，一个数组元素表示一条边，两个数字表示两个顶点"
   ]
  },
  {
   "cell_type": "code",
   "execution_count": 4,
   "metadata": {},
   "outputs": [],
   "source": [
    "// 用顶点数组和边数组表示上述图28-3 a)的图\n",
    "\n",
    "String[] names = {\"Peter\", \"Jane\", \"Mark\", \"Cindy\", \"Wendy\"};\n",
    "int[][] edges = {{0, 2}, {1, 2}, {2, 4}, {3, 4}};"
   ]
  },
  {
   "cell_type": "markdown",
   "metadata": {},
   "source": [
    "<center><font size=3>28.3.3 表示边：Edge对象"
   ]
  },
  {
   "cell_type": "markdown",
   "metadata": {},
   "source": [
    "另外一种表示边的方法就是将边定义为对象，并存储在```ArrayList```中"
   ]
  },
  {
   "cell_type": "code",
   "execution_count": 2,
   "metadata": {},
   "outputs": [],
   "source": [
    "public class Edge{\n",
    "    int u;\n",
    "    int v;\n",
    "    \n",
    "    public Edge(int u, int v){\n",
    "        this.u = u;\n",
    "        this.v = v;\n",
    "    }\n",
    "    \n",
    "    public boolean equals(Object o){\n",
    "        return u == ((Edge) o).u && v == ((Edge) o).v;\n",
    "    }\n",
    "}"
   ]
  },
  {
   "cell_type": "markdown",
   "metadata": {},
   "source": [
    "再用如下线性表来存储边："
   ]
  },
  {
   "cell_type": "code",
   "execution_count": 3,
   "metadata": {},
   "outputs": [
    {
     "data": {
      "text/plain": [
       "true"
      ]
     },
     "execution_count": 3,
     "metadata": {},
     "output_type": "execute_result"
    }
   ],
   "source": [
    "ArrayList<Edge> edgeList = new ArrayList<>();\n",
    "edgeList.add(new Edge(0, 1));\n",
    "edgeList.add(new Edge(0, 3));\n",
    "edgeList.add(new Edge(0, 5));"
   ]
  },
  {
   "cell_type": "markdown",
   "metadata": {},
   "source": [
    "如果事先不知道所有的边，那么利用Edge对象是很有用的\n",
    "\n",
    "用边数组和对象来表示边对输入来说很直观，但是内部处理效率不高。用<font color='dd0000'>邻接矩阵</font>和<font color='dd0000'>邻接线性表</font>处理图更高效"
   ]
  },
  {
   "cell_type": "markdown",
   "metadata": {},
   "source": [
    "<center><font size=3>28.3.4 表示边：邻接矩阵"
   ]
  },
  {
   "cell_type": "markdown",
   "metadata": {},
   "source": [
    "用邻接矩阵来表示上述图28-3 a)的图<font color='dd0000'>(有向图)</font>"
   ]
  },
  {
   "cell_type": "code",
   "execution_count": 5,
   "metadata": {},
   "outputs": [],
   "source": [
    "int[][] a = {{0, 0, 1, 0, 0},\n",
    "             {0, 0, 1, 0, 0},\n",
    "             {0, 0, 0, 0, 1},\n",
    "             {0, 0, 0, 0, 1},\n",
    "             {0, 0, 0, 0, 0}};"
   ]
  },
  {
   "cell_type": "markdown",
   "metadata": {},
   "source": [
    "对无向图来说，邻接矩阵是对称的"
   ]
  },
  {
   "cell_type": "markdown",
   "metadata": {},
   "source": [
    "<center><font size=3>28.3.5 表示边：邻接线性表"
   ]
  },
  {
   "cell_type": "markdown",
   "metadata": {},
   "source": [
    "可以使用<font color='dd0000'>邻接**顶点**线性表</font>和<font color='dd0000'>邻接**边**线性表</font>来表示边\n",
    "\n",
    "可以定义一个线性表数组，数组具有$n$个条目，每个条目是一个线性表。$n$个条目表示$n$个顶点，每个线性表表示和该顶点相连的顶点或边"
   ]
  },
  {
   "cell_type": "markdown",
   "metadata": {},
   "source": [
    "![](adjacentvertex.png)"
   ]
  },
  {
   "cell_type": "markdown",
   "metadata": {},
   "source": [
    "![](adjacentdege.png)"
   ]
  },
  {
   "cell_type": "markdown",
   "metadata": {},
   "source": [
    "![](adjacentedge.png)"
   ]
  },
  {
   "cell_type": "markdown",
   "metadata": {},
   "source": [
    "<font color='dd0000'>如果图很密(即存在大量的边)，建议使用邻接矩阵</font>，否则使用邻接矩阵会浪费大量存储空间，应使用邻接线性表"
   ]
  },
  {
   "cell_type": "markdown",
   "metadata": {},
   "source": [
    "用邻接<font color='dd0000'>顶点</font>线性表表示无权重图更加简单，然而，对于许多应用来说，邻接<font color='dd0000'>边</font>线性表更加灵活，使用邻接边线性表更易于在边上添加额外的约束"
   ]
  },
  {
   "cell_type": "markdown",
   "metadata": {},
   "source": [
    "<center><font size=4>28.4 图建模</font></center>"
   ]
  },
  {
   "cell_type": "markdown",
   "metadata": {},
   "source": [
    "参照Java合集框架来设计图的数据结构\n",
    "\n",
    "图的常用操作有：\n",
    "\n",
    "- 得到图中顶点的个数\n",
    "\n",
    "\n",
    "- 得到图中所有的顶点\n",
    "\n",
    "\n",
    "- 得到指定下标的顶点对象\n",
    "\n",
    "\n",
    "- 得到指定名字的顶点的下标\n",
    "\n",
    "\n",
    "- 得到顶点的邻居\n",
    "\n",
    "\n",
    "- 得到顶点的度\n",
    "\n",
    "\n",
    "- 清除图\n",
    "\n",
    "\n",
    "- 添加新的顶点\n",
    "\n",
    "\n",
    "- 添加新的边\n",
    "\n",
    "\n",
    "- 执行深度优先及广度优先搜索"
   ]
  },
  {
   "cell_type": "markdown",
   "metadata": {},
   "source": [
    "![](graphmodel.png)"
   ]
  },
  {
   "cell_type": "markdown",
   "metadata": {},
   "source": [
    "***AbstractGraph***实现了***Graph***的所有方法，为什么将它定义为抽象的？<font color='dd0000'>可能今后需要给***Graph***接口添加***AbstractGraph***不能实现的新方法，为了使类易于维护，将它定义为抽象类会比较合适</font>"
   ]
  },
  {
   "cell_type": "markdown",
   "metadata": {},
   "source": [
    "<center><font size=4>28.6 图的遍历</font></center>"
   ]
  },
  {
   "cell_type": "markdown",
   "metadata": {},
   "source": [
    "在对图进行<font color='dd0000'>深度优先</font>或<font color='dd0000'>广度优先</font>搜索的时候，会产生一个<font color='dd0000'>**生成树**</font>\n",
    "\n",
    "将生成树定义为一个***AbstractGraph***的内部类"
   ]
  },
  {
   "cell_type": "markdown",
   "metadata": {},
   "source": [
    "![](spanningtree.png)"
   ]
  },
  {
   "cell_type": "markdown",
   "metadata": {},
   "source": [
    "<center><font size=4>28.7 深度优先搜索（DFS)</font></center>"
   ]
  },
  {
   "cell_type": "markdown",
   "metadata": {},
   "source": [
    "图的深度优先搜索从图中的一个顶点出发，在回溯前尽可能地访问图中的所有节点\n",
    "\n",
    "图的深度优先搜索首先访问一个顶点，然后**递归**地访问和这个顶点相连地所有顶点。而图可能包含环，这可能会导致无限递归，<font color='dd0000'>所以需要跟踪已经访问过的顶点</font>\n",
    "\n"
   ]
  },
  {
   "cell_type": "markdown",
   "metadata": {},
   "source": [
    "深度优先搜索可以用来解决如下的许多问题：\n",
    "\n",
    "- <font color='dd0000'>检测图是否是连通的</font>。由任何一个顶点开始搜索图，如果搜索的顶点数与图的顶点数个数一致，那么图是连通的；否则，图是不连通的。\n",
    "\n",
    "\n",
    "- <font color='dd0000'>检测两个顶点之间是否存在路径</font>\n",
    "\n",
    "\n",
    "- <font color='dd0000'>找出两个顶点之间的路径</font>\n",
    "\n",
    "\n",
    "- <font color='dd0000'>找出所有的连通部分</font>。一个连通的部分是指一个最大的连通子图，其中每一个顶点对都由路径连接\n",
    "\n",
    "\n",
    "- <font color='dd0000'>检测图中是否存在回路</font>\n",
    "\n",
    "\n",
    "- <font color='dd0000'>找出图中的回路</font>\n",
    "\n",
    "\n",
    "- <font color='dd0000'>找出**哈密尔顿路径/回路**</font>。图中的**哈密尔顿<font color='dd0000'>路径</font>**是指 可以访问图中每个顶点正好一次的路径。**哈密尔顿<font color='dd0000'>回路</font>**是指 访问图中每个顶点正好一次并且返回到出发顶点的路径"
   ]
  },
  {
   "cell_type": "markdown",
   "metadata": {},
   "source": [
    "<center><font size=4>28.7 广度优先搜索（BFS)</font></center>"
   ]
  },
  {
   "cell_type": "markdown",
   "metadata": {},
   "source": [
    "图的广度优先搜索逐层访问顶点。第一层有起始顶点组成，每个下一层由与前一层邻接的顶点组成。"
   ]
  },
  {
   "cell_type": "markdown",
   "metadata": {},
   "source": [
    "许多深度优先搜索解决的问题也可以用广度优先搜索解决，特别的，广度优先搜索可以用来解决下面的问题：\n",
    "\n",
    "- <font color='dd0000'>检测图是否是连通的</font>。\n",
    "\n",
    "\n",
    "- <font color='dd0000'>检测在两个顶点之间是否存在路径</font>\n",
    "\n",
    "\n",
    "- <font color='dd0000'>找出两个顶点之间的最短路径</font>。**可以证明：根节点和广度优先搜索树中的任意一个结点之间的路径是根节点和该结点之间的最短路径**\n",
    "\n",
    "\n",
    "- <font color='dd0000'>找出所有的连通部分</font>。\n",
    "\n",
    "\n",
    "- <font color='dd0000'>检测图中是否存在回路</font>\n",
    "\n",
    "\n",
    "- <font color='dd0000'>找出图中的回路</font>\n",
    "\n",
    "\n",
    "- <font color='dd0000'>检测一个图是否是**二分**的</font>。**如果图的顶点可以分为两个不相交的集合，而且同一个集合中的顶点之间不存在边，那么这个图就是<font color='dd0000'>二分</font>的。**"
   ]
  }
 ],
 "metadata": {
  "kernelspec": {
   "display_name": "Java",
   "language": "java",
   "name": "java"
  },
  "language_info": {
   "codemirror_mode": "java",
   "file_extension": ".jshell",
   "mimetype": "text/x-java-source",
   "name": "Java",
   "pygments_lexer": "java",
   "version": "12.0.2+10"
  }
 },
 "nbformat": 4,
 "nbformat_minor": 2
}
