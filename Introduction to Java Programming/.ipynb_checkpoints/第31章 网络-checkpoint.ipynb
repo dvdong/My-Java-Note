{
 "cells": [
  {
   "cell_type": "markdown",
   "metadata": {},
   "source": [
    "<center><font size=5>第31章 网络</font></center>"
   ]
  },
  {
   "cell_type": "markdown",
   "metadata": {},
   "source": [
    "<center><font size=4>31.2 客户端/服务器计算</font></center>"
   ]
  },
  {
   "cell_type": "markdown",
   "metadata": {},
   "source": [
    "Java提供```ServerSocket类```来创建<font color='dd0000'>服务器</font>套接字，```Socket类```来创建<font color='dd0000'>客户端</font>套接字"
   ]
  },
  {
   "cell_type": "markdown",
   "metadata": {},
   "source": [
    "![](socket.png)"
   ]
  },
  {
   "cell_type": "markdown",
   "metadata": {},
   "source": [
    "服务器：```ServerSocket serverSockeet = new ServerSocket(port)```、```Socket socket = serverSocket.accept()```\n",
    "\n",
    "客户端：```Socket socket = new Socket(serverName, port)```"
   ]
  },
  {
   "cell_type": "markdown",
   "metadata": {},
   "source": [
    "服务器和客户端之间的通信像输入输出(I/O)流一样进行操作\n",
    "\n",
    "由于文本I/O需要编码和解码，所以二进制I/O比文本I/O效率高"
   ]
  },
  {
   "cell_type": "markdown",
   "metadata": {},
   "source": [
    "当客户端与服务器相连时，在客户端上创建一个套接字。这个套接字有它自己的<font color='dd0000'>本地端口</font>，端口号由Java虚拟机自动选取。"
   ]
  },
  {
   "cell_type": "markdown",
   "metadata": {},
   "source": [
    "<center><font size=4>31.3 InetAddress类</font></center>"
   ]
  },
  {
   "cell_type": "markdown",
   "metadata": {},
   "source": [
    "服务器程序可以使用```InetAddress类```来获得客户端的IP地址和主机名等信息"
   ]
  },
  {
   "cell_type": "markdown",
   "metadata": {},
   "source": [
    "```\n",
    "InetAddress inetAddress = socket.getInetAddress; // 得到一个InetAddress对象\n",
    "\n",
    "inetAddress.getHostName();  // 得到客户端主机名\n",
    "\n",
    "inetAddress.getHostAddress(); // 得到客户端地址\n",
    "```"
   ]
  },
  {
   "cell_type": "markdown",
   "metadata": {},
   "source": [
    "使用静态方法```getByName```可以通过主机名和IP地址创建一个*InetAddress*实例"
   ]
  },
  {
   "cell_type": "markdown",
   "metadata": {},
   "source": [
    "```\n",
    "InetAddress address = InetAddress.getByName({\"pe\", \"192.168.1.1\"});\n",
    "address.getHostName();      // 输出pe\n",
    "address.getHostAddress();   // 输出192.168.1.1\n",
    "```"
   ]
  },
  {
   "cell_type": "markdown",
   "metadata": {},
   "source": [
    "<center><font size=4>31.4 服务多个客户</font></center>"
   ]
  },
  {
   "cell_type": "markdown",
   "metadata": {},
   "source": [
    "一个服务器可以为多个客户端服务，对每个客户端的连接可以由一个线程来处理。"
   ]
  },
  {
   "cell_type": "markdown",
   "metadata": {},
   "source": [
    "```\n",
    "while (true) {\n",
    "    Socket socket = serverSocket.accept();\n",
    "    Thread thread = new Thread(new TaskClass(socket));\n",
    "    thread.start();\n",
    "}\n",
    "```"
   ]
  },
  {
   "cell_type": "markdown",
   "metadata": {},
   "source": [
    "<center><font size=4>31.5 发送和接收对象</font></center>"
   ]
  },
  {
   "cell_type": "markdown",
   "metadata": {},
   "source": [
    "一个程序可以向另一程序发送和接收对象"
   ]
  },
  {
   "cell_type": "markdown",
   "metadata": {},
   "source": [
    "在套接字流上，使用```ObjectOutputStream和ObjectInputStream```来发送和接收对象。为了能够进行传输，这些对象必须是可序列化的。"
   ]
  },
  {
   "cell_type": "markdown",
   "metadata": {},
   "source": [
    "<font color='dd0000'>服务器接收到对象，进行反序列化时，如果本地没有**原类**，则会失败</font>"
   ]
  }
 ],
 "metadata": {
  "kernelspec": {
   "display_name": "Java",
   "language": "java",
   "name": "java"
  },
  "language_info": {
   "codemirror_mode": "java",
   "file_extension": ".jshell",
   "mimetype": "text/x-java-source",
   "name": "Java",
   "pygments_lexer": "java",
   "version": "12.0.2+10"
  }
 },
 "nbformat": 4,
 "nbformat_minor": 2
}
