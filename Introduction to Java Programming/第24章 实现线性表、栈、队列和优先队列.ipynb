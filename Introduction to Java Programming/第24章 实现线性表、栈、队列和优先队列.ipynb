{
 "cells": [
  {
   "cell_type": "markdown",
   "metadata": {},
   "source": [
    "<center><font size=5>第24章 实现线性表、栈、队列和优先队列</font></center>"
   ]
  },
  {
   "cell_type": "markdown",
   "metadata": {},
   "source": [
    "<center><font size=4>24.2 线性表的通用特性</font></center>"
   ]
  },
  {
   "cell_type": "markdown",
   "metadata": {},
   "source": [
    "- 提取一个元素\n",
    "- 插入一个新元素\n",
    "- 删除一个元素\n",
    "- 找出元素的个数\n",
    "- 确定是否包含某个元素\n",
    "- 确定线性表是否为空"
   ]
  },
  {
   "cell_type": "markdown",
   "metadata": {},
   "source": [
    "实现线性表的方式有两种：\n",
    "\n",
    "一种是用数组存储线性表的元素。数组大小是固定的，如果元素个数超过了数组容量，就创建一个更大的新数组，并把当前数组的元素复制到新数组中\n",
    "\n",
    "一种是使用链式结构。链式结构由结点组成，每个结点都是动态创建的，用来存储一个元素，所有的结点链接成一个线性表"
   ]
  },
  {
   "cell_type": "markdown",
   "metadata": {},
   "source": [
    "<font color='dd0000'>**设计指南：**</font>通用的操作可以归纳为一个<font color='dd0000'>接口</font>或者一个<font color='dd0000'>抽象类</font>。一个好的策略就是在设计中提供<font color='dd0000'>接口和便利抽象类</font>，以整合接口和抽象类的优点，这样用户可以认为哪个方便就用哪个。抽象类提供了接口的<font color='dd0000'>骨架实现</font>，可以更有效地实现接口。"
   ]
  },
  {
   "cell_type": "markdown",
   "metadata": {},
   "source": [
    "![](MyList.png)"
   ]
  },
  {
   "cell_type": "markdown",
   "metadata": {},
   "source": [
    "接口MyList定义草所线性表的许多方法，抽象类MyAbstractList提供MyList接口的<font color='dd0000'>部分实现</font>(**具体类实现接口必须实现接口中的所有方法**)"
   ]
  },
  {
   "cell_type": "markdown",
   "metadata": {},
   "source": [
    "<center><font size=4>24.3 数组线性表</font></center>"
   ]
  },
  {
   "cell_type": "markdown",
   "metadata": {},
   "source": [
    "向数组中插入一个元素时，先判断数组是否由足够的空间，若空间不够，则创建大小为当前数组大小<font color='dd0000'>2倍+1</font>的新数组，再将元素复制到新数组中。\n",
    "\n",
    "在指定下标插入一个新元素之前，先将后面的元素右移一个位置，并将大小增加1\n",
    "\n",
    "删除指定下标元素时，将后面的元素左移一个位置，并将大小减1"
   ]
  },
  {
   "cell_type": "markdown",
   "metadata": {},
   "source": [
    "<center><font size=4>24.4 链表</font></center>"
   ]
  },
  {
   "cell_type": "markdown",
   "metadata": {},
   "source": [
    "为了提高在线性表中添加和删除元素的效率，可以采用链式结构来实现线性表"
   ]
  },
  {
   "cell_type": "markdown",
   "metadata": {},
   "source": [
    "<font color='dd0000'>循环单链表</font>除了链表中的最后一个结点指回到第一个结点以外，其他都很像单链表\n",
    "\n",
    "<font color='dd0000'>双向链表</font>包含带两个指针的结点，一个指针指向下一个结点，另一个指针指向前一个结点\n",
    "\n",
    "<font color='dd0000'>**```java.util.LinkedList```类使用双向链表实现**</font>，支持使用```ListIterator```向前或向后遍历"
   ]
  },
  {
   "cell_type": "markdown",
   "metadata": {},
   "source": [
    "![](LinkedLists.png)"
   ]
  },
  {
   "cell_type": "markdown",
   "metadata": {},
   "source": [
    "<center><font size=4>24.5 栈和队列</font></center>"
   ]
  },
  {
   "cell_type": "markdown",
   "metadata": {},
   "source": [
    "可以用数组线性表实现栈，使用链表实现队列"
   ]
  },
  {
   "cell_type": "markdown",
   "metadata": {},
   "source": [
    "由于栈只允许在栈顶进行插入和删除操作，所以用数组线性表来实现栈比用链表来实现效率更高\n",
    "\n",
    "而队列的删除是在线性表的起始位置进行的，所以用链表来实现队列比用数组线性表来实现效率更高"
   ]
  },
  {
   "cell_type": "markdown",
   "metadata": {},
   "source": [
    "<center><font size=4>24.5 优先队列</font></center>"
   ]
  },
  {
   "cell_type": "markdown",
   "metadata": {},
   "source": [
    "可以用<font color='dd0000'>**堆**</font>来实现优先队列，其中根节点是优先级最高的元素"
   ]
  }
 ],
 "metadata": {
  "kernelspec": {
   "display_name": "Java",
   "language": "java",
   "name": "java"
  },
  "language_info": {
   "codemirror_mode": "java",
   "file_extension": ".jshell",
   "mimetype": "text/x-java-source",
   "name": "Java",
   "pygments_lexer": "java",
   "version": "12.0.2+10"
  }
 },
 "nbformat": 4,
 "nbformat_minor": 2
}
