{
 "cells": [
  {
   "cell_type": "markdown",
   "metadata": {},
   "source": [
    "<center><font size=5>第22章 开发高效算法</font></center>"
   ]
  },
  {
   "cell_type": "markdown",
   "metadata": {},
   "source": [
    "**小窍门**"
   ]
  },
  {
   "cell_type": "markdown",
   "metadata": {},
   "source": [
    "<font color='dd0000'>二进制字符串转十进制</font>"
   ]
  },
  {
   "cell_type": "code",
   "execution_count": 4,
   "metadata": {},
   "outputs": [
    {
     "data": {
      "text/plain": [
       "90"
      ]
     },
     "execution_count": 4,
     "metadata": {},
     "output_type": "execute_result"
    }
   ],
   "source": [
    "public int binaryToDecimal(String binary){\n",
    "    char[] b = binary.toCharArray();\n",
    "    int res = 0;\n",
    "    for(int i = 0; i < b.length; i++){\n",
    "        if(b[i] == '0')\n",
    "            res = res * 2 + 0;\n",
    "        else if(b[i] == '1')\n",
    "            res = res * 2 + 1;\n",
    "    }\n",
    "    return res;\n",
    "}\n",
    "\n",
    "String x = \"1011010\";\n",
    "binaryToDecimal(x);"
   ]
  },
  {
   "cell_type": "markdown",
   "metadata": {},
   "source": [
    "计算a的n次方:"
   ]
  },
  {
   "cell_type": "code",
   "execution_count": 1,
   "metadata": {},
   "outputs": [],
   "source": [
    "// 方法1：将a乘n次：时间复杂度为n\n",
    "public static int m1(int a, int n){\n",
    "    int result = 1;\n",
    "    for(int i = 1; i <= n; i++){\n",
    "        result *= a;\n",
    "    }\n",
    "    return result;\n",
    "}\n",
    "\n",
    "// 方法2：将a每次进行平方(并处理非2的整次幂情况)：时间复杂度为log(n)\n",
    "public static int m2(int a, int n){\n",
    "    if(n == 1){\n",
    "        return a;\n",
    "    }else{\n",
    "        int temp = m2(a, n / 2);\n",
    "        if(n % 2 == 0)\n",
    "            return temp *temp;\n",
    "        else\n",
    "            return a * temp * temp;\n",
    "    }\n",
    "}"
   ]
  },
  {
   "cell_type": "code",
   "execution_count": 2,
   "metadata": {},
   "outputs": [
    {
     "data": {
      "text/plain": [
       "8192"
      ]
     },
     "execution_count": 2,
     "metadata": {},
     "output_type": "execute_result"
    }
   ],
   "source": [
    "m1(2,13);"
   ]
  },
  {
   "cell_type": "code",
   "execution_count": 3,
   "metadata": {},
   "outputs": [
    {
     "data": {
      "text/plain": [
       "8192"
      ]
     },
     "execution_count": 3,
     "metadata": {},
     "output_type": "execute_result"
    }
   ],
   "source": [
    "m2(2,13)"
   ]
  },
  {
   "cell_type": "markdown",
   "metadata": {},
   "source": [
    "**使用动态编程计算斐波那契数**"
   ]
  },
  {
   "cell_type": "code",
   "execution_count": 4,
   "metadata": {},
   "outputs": [
    {
     "data": {
      "text/plain": [
       "13"
      ]
     },
     "execution_count": 4,
     "metadata": {},
     "output_type": "execute_result"
    }
   ],
   "source": [
    "// 递归方法：复杂度为2的n次方\n",
    "\n",
    "public static int fib(int index){\n",
    "    if(index == 0)\n",
    "        return 1;\n",
    "    if(index == 1)\n",
    "        return 1;\n",
    "    return fib(index - 1) + fib(index - 2);\n",
    "}\n",
    "\n",
    "fib(6)"
   ]
  },
  {
   "cell_type": "code",
   "execution_count": 5,
   "metadata": {},
   "outputs": [
    {
     "data": {
      "text/plain": [
       "8"
      ]
     },
     "execution_count": 5,
     "metadata": {},
     "output_type": "execute_result"
    }
   ],
   "source": [
    "// 非递归方法：复杂度为O(n)\n",
    "\n",
    "public static int fib2(int n){\n",
    "    if(n < 2)\n",
    "        return 1;\n",
    "    \n",
    "    int f0 = 1;\n",
    "    int f1 = 1;\n",
    "    int f2 = 0;\n",
    "    for(int i = 2; i <= n; i++){\n",
    "        f2 = f0 + f1;\n",
    "        f0 = f1;\n",
    "        f1 = f2;\n",
    "    }\n",
    "    return f2;\n",
    "}\n",
    "\n",
    "fib2(5)"
   ]
  },
  {
   "cell_type": "markdown",
   "metadata": {},
   "source": [
    "上述非递归方法使用了一种称为动态编程的方法：通过解决子问题，然后将子问题的结果结合起来获得整个问题的解"
   ]
  },
  {
   "cell_type": "markdown",
   "metadata": {},
   "source": [
    "**使用欧几里得算法求最大公约数**"
   ]
  },
  {
   "cell_type": "code",
   "execution_count": 6,
   "metadata": {},
   "outputs": [
    {
     "data": {
      "text/plain": [
       "9"
      ]
     },
     "execution_count": 6,
     "metadata": {},
     "output_type": "execute_result"
    }
   ],
   "source": [
    "// 暴力解法：假设m>n，则复杂度为O(n)\n",
    "\n",
    "public static int gcd(int m, int n){\n",
    "    int res = 1;\n",
    "    for(int i = 2; i <= m && i <= n; i++){\n",
    "        if(m % i ==0 && n % i == 0 )\n",
    "            res = i;\n",
    "    }\n",
    "    return res;\n",
    "}\n",
    "\n",
    "gcd(45, 99);"
   ]
  },
  {
   "cell_type": "code",
   "execution_count": 7,
   "metadata": {},
   "outputs": [
    {
     "data": {
      "text/plain": [
       "25"
      ]
     },
     "execution_count": 7,
     "metadata": {},
     "output_type": "execute_result"
    }
   ],
   "source": [
    "// 欧几里得解法：最坏情况复杂度为O(log(n)\n",
    "\n",
    "public static int euclidGcd(int m, int n){\n",
    "    // 假设m > n\n",
    "    if(n == 0)\n",
    "        return m;\n",
    "    int r = m % n;\n",
    "    return euclidGcd(n, r);\n",
    "}\n",
    "\n",
    "euclidGcd(2525, 125)"
   ]
  },
  {
   "cell_type": "markdown",
   "metadata": {},
   "source": [
    "**寻找素数的高效算法**"
   ]
  },
  {
   "cell_type": "code",
   "execution_count": 8,
   "metadata": {},
   "outputs": [
    {
     "name": "stdout",
     "output_type": "stream",
     "text": [
      "2 3 5 7 11 13 17 "
     ]
    }
   ],
   "source": [
    "// 求不超过n的所有素数\n",
    "\n",
    "public static void primeNumbers(int n){\n",
    "    int i = 2;\n",
    "    boolean isPrime = true;\n",
    "    while(i <= n){\n",
    "        int squareRoot = (int) Math.sqrt(i);\n",
    "        for(int j = 2; j <= squareRoot; j++){\n",
    "            if(i % j == 0){\n",
    "                isPrime = false;\n",
    "                break;\n",
    "            }\n",
    "        }\n",
    "        if(isPrime){\n",
    "            System.out.print(i + \" \");\n",
    "        }\n",
    "        isPrime = true;\n",
    "        i++;\n",
    "    }\n",
    "}\n",
    "\n",
    "primeNumbers(17)"
   ]
  },
  {
   "cell_type": "markdown",
   "metadata": {},
   "source": [
    "**优化：**\n",
    "没有必要对每个```i```来确切计算```Math.sqrt(i)```，只需要判断到所有小于n的完全平方数的根\n",
    "\n",
    "如：4-9之间的数只需要判断到2 + 1 = 3，9-16之间的数只需要判断到3 + 1 = 4，16-25之间的数只需要判断到4 + 1 = 5..."
   ]
  },
  {
   "cell_type": "code",
   "execution_count": 9,
   "metadata": {},
   "outputs": [
    {
     "name": "stdout",
     "output_type": "stream",
     "text": [
      "2 3 5 7 11 13 17 19 "
     ]
    }
   ],
   "source": [
    "public static void primeNumbers(int n){\n",
    "    int i = 2;\n",
    "    int squareRoot = 0;\n",
    "    boolean isPrime = true;\n",
    "    while(i <= n){\n",
    "        \n",
    "        if(i > squareRoot * squareRoot)\n",
    "            squareRoot++;\n",
    "        \n",
    "        for(int j = 2; j <= squareRoot; j++){\n",
    "            if(i % j == 0){\n",
    "                isPrime = false;\n",
    "                break;\n",
    "            }\n",
    "        }\n",
    "        if(isPrime){\n",
    "            System.out.print(i + \" \");\n",
    "        }\n",
    "        isPrime = true;\n",
    "        i++;\n",
    "    }\n",
    "}\n",
    "\n",
    "primeNumbers(20)"
   ]
  },
  {
   "cell_type": "markdown",
   "metadata": {},
   "source": [
    "**继续优化：**确定***i***是否是素数，要检测*2,3,4...sqrt(i)*能否被i整除，实际上<font color='dd0000'>只需要检测从**2到sqrt(i)之间的素数**能否被i整除</font>\n",
    "\n",
    "可以证明：如果***i***不是素数，那么必定存在一个**素数*p***，满足***i=pq***，且***p≤q***"
   ]
  },
  {
   "cell_type": "code",
   "execution_count": 10,
   "metadata": {},
   "outputs": [
    {
     "name": "stdout",
     "output_type": "stream",
     "text": [
      "2 3 5 7 11 13 17 19 "
     ]
    }
   ],
   "source": [
    "// 在数组线性表中存储子问题的结果，之后再使用它们来检查新的数是否为一个素数(动态编程思想)\n",
    "\n",
    "public static void primeNumbers(int n){\n",
    "    int i = 2;\n",
    "    int squareRoot = 0;\n",
    "    boolean isPrime = true;\n",
    "    List<Integer> primeList = new ArrayList<>();\n",
    "    while(i <= n){\n",
    "        \n",
    "        if(i > squareRoot * squareRoot)\n",
    "            squareRoot++;\n",
    "        \n",
    "        for(int j = 0; j < primeList.size() && primeList.get(j) <= squareRoot; j++){  // 比较的数不能超过当前i的squareRootl \n",
    "            if(i % primeList.get(j) == 0){    // 把当前数i和primeList内的每个数进行比较\n",
    "                isPrime = false;\n",
    "                break;\n",
    "            }\n",
    "        }\n",
    "        if(isPrime){\n",
    "            primeList.add(i);           //检查到一个素数，就把它放进primeList\n",
    "            System.out.print(i + \" \");\n",
    "        }\n",
    "        isPrime = true;\n",
    "        i++;\n",
    "    }\n",
    "}\n",
    "\n",
    "primeNumbers(20)"
   ]
  },
  {
   "cell_type": "markdown",
   "metadata": {},
   "source": [
    "<font color='dd0000'>**埃拉托色尼算法**</font>"
   ]
  },
  {
   "cell_type": "markdown",
   "metadata": {},
   "source": [
    "① 初始化一个大小为***n***的布尔型数组***primes***，初始值所有元素为true\n",
    "\n",
    "② 因为2的倍数不是素数，所以对于所有的***2 ≤ i ≤ n/2***，将***primes\\[2i]***设为false\n",
    "\n",
    "③ 因为3的倍数不是素数，所以对于所有的***3 ≤ i ≤ n/3***，将***primes\\[3i]***设为false\n",
    "\n",
    "④ 不需要考虑4，因为4的倍数是2的倍数，已经考虑过了，所有4的倍数都被置为false了\n",
    "\n",
    "……\n",
    "\n",
    "以此类推考虑素数2,3,5,7……的倍数\n",
    "\n",
    "之后如果***primes[i]***的值仍为true，则***i***就是素数"
   ]
  },
  {
   "cell_type": "code",
   "execution_count": 2,
   "metadata": {},
   "outputs": [
    {
     "name": "stdout",
     "output_type": "stream",
     "text": [
      "2 3 5 7 11 13 17 19 "
     ]
    }
   ],
   "source": [
    "public static void eratosthenes(int n){\n",
    "    boolean[] primes = new boolean[n + 1]; // 下标是0 ~ n\n",
    "    // 初始化为true\n",
    "    for(int i = 0; i < primes.length; i++){\n",
    "        primes[i] = true;\n",
    "    }\n",
    "    for(int k = 2; k <= n / k; k++){\n",
    "        if(primes[k]){\n",
    "            for(int i = k; i <= n / k; i++){\n",
    "                primes[k * i] = false;\n",
    "            }\n",
    "        }\n",
    "    }\n",
    "    \n",
    "    for(int i = 2; i < primes.length; i++){\n",
    "        if(primes[i])\n",
    "            System.out.print(i + \" \");\n",
    "    }\n",
    "}\n",
    "\n",
    "eratosthenes(20);"
   ]
  },
  {
   "cell_type": "markdown",
   "metadata": {},
   "source": [
    "**使用分治法找最近的点对**"
   ]
  },
  {
   "cell_type": "code",
   "execution_count": 51,
   "metadata": {},
   "outputs": [],
   "source": [
    "class Point implements Comparable<Point>{\n",
    "    int x;\n",
    "    int y;\n",
    "    \n",
    "    public Point(int x, int y){\n",
    "        this.x = x;\n",
    "        this.y = y;\n",
    "    }\n",
    "    \n",
    "    public int compareTo(Point p){\n",
    "        if(this.x == p.x)\n",
    "            return this.y - p.y;\n",
    "        return this.x - p.x;\n",
    "    }\n",
    "    \n",
    "    public String toString(){\n",
    "        return \"(\" + this.x + \",\" + this.y + \")\";\n",
    "    }\n",
    "}"
   ]
  },
  {
   "cell_type": "code",
   "execution_count": 3,
   "metadata": {},
   "outputs": [
    {
     "name": "stdout",
     "output_type": "stream",
     "text": [
      "[(2,4), (3,5), (1,9)]\n",
      "(1,9) (2,4) (3,5) "
     ]
    }
   ],
   "source": [
    "// Point类测试\n",
    "\n",
    "Point a = new Point(2,4);\n",
    "Point b = new Point(3,5);\n",
    "Point c = new Point(1,9);\n",
    "List<Point> list = new ArrayList<>();\n",
    "list.add(a);\n",
    "list.add(b);\n",
    "list.add(c);\n",
    "System.out.println(list);\n",
    "Collections.sort(list);\n",
    "Iterator<Point> it = list.iterator();\n",
    "while(it.hasNext()){\n",
    "    System.out.print(it.next() + \" \");\n",
    "}"
   ]
  },
  {
   "cell_type": "code",
   "execution_count": 4,
   "metadata": {},
   "outputs": [],
   "source": [
    "// 求两点间距离\n",
    "\n",
    "public static double getDistance(Point a, Point b){\n",
    "    return Math.sqrt((a.x - b.x) * (a.x - b.x) + (a.y - b.y) * (a.y - b.y));\n",
    "}"
   ]
  },
  {
   "cell_type": "code",
   "execution_count": 5,
   "metadata": {},
   "outputs": [],
   "source": [
    "// 暴力解法：穷举每两个点间的距离，复杂度为O(n^2)\n",
    "\n",
    "public static void minDistance(Point[] arr){\n",
    "    Point p1 = arr[0];\n",
    "    Point p2 = arr[1];\n",
    "    double min = getDistance(p1, p2);\n",
    "    for(int i = 0; i < arr.length; i++){\n",
    "        for(int j = i + 1; j < arr.length; j++){\n",
    "            double d = getDistance(arr[i], arr[j]);\n",
    "            if(d < min){\n",
    "                p1 = arr[i];\n",
    "                p2 = arr[j];\n",
    "                min = d;\n",
    "            }\n",
    "        }\n",
    "    }\n",
    "    System.out.print(p1 + \" \" + p2 + \" \" + \"min = \" + min);\n",
    "}"
   ]
  },
  {
   "cell_type": "code",
   "execution_count": 10,
   "metadata": {},
   "outputs": [],
   "source": [
    "// 分治法\n",
    "\n",
    "public static void minDistance2(Point[] points){\n",
    "    Point[] res = split(points, 0, points.length - 1);\n",
    "    double min = getDistance(res[0], res[1]);\n",
    "    System.out.print(res[0] + \" \" + res[1] + \" \" + \"min = \" + min);\n",
    "}\n",
    "\n",
    "private Point[] split(Point[] points, int left, int right){    // 返回值是有两个点的数组(即一对最近点)\n",
    "   if(right - left <= 2){\n",
    "       return bruteForce(points, left, right);\n",
    "   }\n",
    "    \n",
    "    int mid = left + (right - left) / 2;\n",
    "    Point[] leftPair = split(points, left, mid);\n",
    "    Point[] rightPair = split(points, mid + 1, right);\n",
    "    return merge(leftPair, rightPair, points, left, right, mid);\n",
    "}\n",
    "\n",
    "private Point[] merge(Point[] leftPair, Point[] rightPair, Point[] points, int left, int right, int mid){\n",
    "    Point[] pair = new Point[2];\n",
    "    double d1 = getDistance(leftPair[0], leftPair[1]);\n",
    "    double d2 = getDistance(rightPair[0], rightPair[1]);\n",
    "    double d = Math.min(d1, d2);\n",
    "    if(d == d1){\n",
    "        pair[0] = leftPair[0];\n",
    "        pair[1] = leftPair[1];\n",
    "    }else{\n",
    "        pair[0] = rightPair[0];\n",
    "        pair[1] = rightPair[1];\n",
    "    }\n",
    "    \n",
    "    int midX = points[mid].x;\n",
    "    List<Point> stripL = new ArrayList<>();\n",
    "    List<Point> stripR = new ArrayList<>();\n",
    "    for(int i = left; i <= right; i++){\n",
    "        if(i <= mid && midX - points[i].x <= d){\n",
    "            stripL.add(points[i]);\n",
    "        } else if(i > mid && points[i].x - midX <= d){\n",
    "            stripR.add(points[i]);\n",
    "        }\n",
    "    }\n",
    "    \n",
    "    for(Point p : stripL){\n",
    "        for(Point q : stripR){\n",
    "            if(Math.abs(p.y - q.y) <= d){\n",
    "                if(getDistance(p, q) < d){\n",
    "                    d = getDistance(p, q);\n",
    "                    pair[0] = p;\n",
    "                    pair[1] = q;\n",
    "                }\n",
    "            }\n",
    "        }\n",
    "    }\n",
    "    return pair;\n",
    "}\n",
    "\n",
    "private Point[] bruteForce(Point[] points, int left, int right){\n",
    "    Point[] pair = new Point[2];\n",
    "    pair[0] = points[left];\n",
    "    pair[1] = points[left + 1];\n",
    "    double min = getDistance(pair[0], pair[1]);\n",
    "    for(int i = left; i <= right; i++){\n",
    "        for(int j = i + 1; j <= right; j++){\n",
    "            double d = getDistance(points[i], points[j]);\n",
    "            if(d < min){\n",
    "                min = d;\n",
    "                pair[0] = points[i];\n",
    "                pair[1] = points[j];\n",
    "            }\n",
    "        }\n",
    "    }\n",
    "    return pair;\n",
    "}"
   ]
  },
  {
   "cell_type": "code",
   "execution_count": 11,
   "metadata": {},
   "outputs": [
    {
     "name": "stdout",
     "output_type": "stream",
     "text": [
      "(3892,37) (3893,32) min = 5.0990195135927845\n",
      "(3892,37) (3893,32) min = 5.0990195135927845"
     ]
    }
   ],
   "source": [
    "// Test\n",
    "\n",
    "Point[] points = new Point[500];\n",
    "for(int i = 0; i < points.length; i++){\n",
    "    points[i] = new Point((int)(Math.random()*5000), (int)(Math.random()*1000));\n",
    "}\n",
    "\n",
    "minDistance(points);\n",
    "System.out.println();\n",
    "// 先排序\n",
    "Arrays.sort(points);\n",
    "minDistance2(points);"
   ]
  },
  {
   "cell_type": "markdown",
   "metadata": {},
   "source": [
    "**使用回溯法解决八皇后问题**"
   ]
  },
  {
   "cell_type": "code",
   "execution_count": 28,
   "metadata": {},
   "outputs": [],
   "source": [
    "class Solution{\n",
    "    int[] board;\n",
    "    List<String> oneSolution;\n",
    "    List<List<String>> allSolution = new ArrayList<>();\n",
    "    \n",
    "    public List<List<String>> solveNQueens(int n){\n",
    "        board = new int[n];\n",
    "        queens(0, n);\n",
    "        return allSolution;\n",
    "    }\n",
    "\n",
    "    public void queens(int i, int n){\n",
    "        if(i == n){\n",
    "            oneSolution = getResult(n);\n",
    "            allSolution.add(oneSolution);\n",
    "            return;\n",
    "        }\n",
    "        \n",
    "        for(int j = 0; j < n; j++){\n",
    "            board[i] = j;\n",
    "            if(isOk(i, j, n)){\n",
    "                queens(i + 1, n);\n",
    "            }\n",
    "            board[i] = 0;\n",
    "        }\n",
    "    }\n",
    "\n",
    "    public boolean isOk(int i, int j, int n){\n",
    "        int row = i - 1;\n",
    "        int left = j - 1;\n",
    "        int right = j + 1;\n",
    "        while(row >= 0){\n",
    "            if(board[row] == j || (left >= 0 && board[row] == left) || (right < n && board[row] == right)){\n",
    "                return false;\n",
    "            }\n",
    "            row--;\n",
    "            left--;\n",
    "            right++;\n",
    "        }\n",
    "        return true;\n",
    "    }\n",
    "    \n",
    "    public List<String> getResult(int n){\n",
    "        List<String> sol = new ArrayList<>();\n",
    "        String str = \"\";\n",
    "        for(int i = 0; i < n; i++){\n",
    "            str += \".\";\n",
    "        }\n",
    "        for(int i = 0; i < board.length; i++){\n",
    "            StringBuilder s = new StringBuilder(str);\n",
    "            int index = board[i];\n",
    "            s.setCharAt(index, 'Q');\n",
    "            sol.add(s.toString());\n",
    "        }\n",
    "        return sol;\n",
    "    }\n",
    "}"
   ]
  },
  {
   "cell_type": "code",
   "execution_count": 37,
   "metadata": {},
   "outputs": [
    {
     "name": "stdout",
     "output_type": "stream",
     "text": [
      "[[.Q.., ...Q, Q..., ..Q.], [..Q., Q..., ...Q, .Q..]]\n"
     ]
    }
   ],
   "source": [
    "Solution s = new Solution();\n",
    "System.out.println(s.solveNQueens(4));"
   ]
  },
  {
   "cell_type": "markdown",
   "metadata": {},
   "source": [
    "**计算几何：寻找凸包**"
   ]
  },
  {
   "cell_type": "markdown",
   "metadata": {},
   "source": [
    "<font color='dd0000'>卷包裹算法(gift-wrapping algirithm)</font>"
   ]
  },
  {
   "cell_type": "markdown",
   "metadata": {},
   "source": [
    "![](giftwrapped.png)"
   ]
  },
  {
   "cell_type": "markdown",
   "metadata": {},
   "source": [
    "⭐<font color='dd0000'>**判断点在有向直线左侧、右侧还是直线上的方法 ↓**</font>"
   ]
  },
  {
   "cell_type": "code",
   "execution_count": 59,
   "metadata": {},
   "outputs": [],
   "source": [
    "// 判断一个点(x2, y2)在有向直线p0、p1的左侧、右侧还是直线上\n",
    "public int pointPosition(int x0, int y0, int x1, int y1, int x2, int y2){\n",
    "    return (x1 - x0) * (y2 - y0) - (x2 - x0) * (y1 - y0);\n",
    "}\n",
    "\n",
    "public List<Point> getConvexHull(List<Point> s){\n",
    "    List<Point> h = new ArrayList<>();\n",
    "    Point start = s.get(0);\n",
    "    int minY = start.y;\n",
    "    h.add(start);\n",
    "    for(int i = 0; i < s.size(); i++){\n",
    "        if(s.get(i).y < minY){\n",
    "            start = s.get(i);\n",
    "            minY = start.y;\n",
    "            h.add(0, start);\n",
    "        }else if(s.get(i).y == minY){\n",
    "            if(s.get(i).x < start.x){\n",
    "                start = s.get(i);\n",
    "                h.add(0, start);\n",
    "            }\n",
    "        }\n",
    "    }\n",
    "    Point h0 = h.get(0);\n",
    "    Point t0 = h0;\n",
    "    Point t1;\n",
    "    if(s.get(0) != t0)\n",
    "        t1 = s.get(0);\n",
    "    else\n",
    "        t1 = s.get(1);\n",
    "    int x0, y0, x1, y1, x2, y2;\n",
    "    while(true){\n",
    "        x0 = t0.x;\n",
    "        y0 = t0.y;\n",
    "        for(Point p : s){\n",
    "            x1 = t1.x;\n",
    "            y1 = t1.y;\n",
    "            x2 = p.x;\n",
    "            y2 = p.y;\n",
    "            if(pointPosition(x0, y0, x1, y1, x2, y2) < 0){\n",
    "                t1 = p;\n",
    "                continue;\n",
    "            }\n",
    "        }\n",
    "        if(!h.contains(t1))\n",
    "            h.add(t1);\n",
    "        if(t1 == h0)\n",
    "            break;\n",
    "        t0 = t1;\n",
    "        if(s.get(0) != t0)\n",
    "            t1 = s.get(0);\n",
    "        else\n",
    "            t1 = s.get(1);\n",
    "    }\n",
    "    return h;\n",
    "}"
   ]
  },
  {
   "cell_type": "code",
   "execution_count": 60,
   "metadata": {},
   "outputs": [
    {
     "name": "stdout",
     "output_type": "stream",
     "text": [
      "[(9,6), (4,9), (6,2), (8,3), (5,1), (7,6), (0,0), (3,6), (1,0), (8,0), (8,5), (2,1), (3,3), (1,9), (0,8)]\n"
     ]
    },
    {
     "data": {
      "text/plain": [
       "[(0,0), (5,1), (6,2), (9,6), (1,0), (8,0), (4,9), (1,9), (0,8)]"
      ]
     },
     "execution_count": 60,
     "metadata": {},
     "output_type": "execute_result"
    }
   ],
   "source": [
    "Point[] points = new Point[15];\n",
    "for(int i = 0; i < points.length; i++){\n",
    "    points[i] = new Point((int)(Math.random()*10), (int)(Math.random()*10));\n",
    "}\n",
    "List<Point> s = Arrays.asList(points);\n",
    "System.out.println(s);\n",
    "getConvexHull(s);"
   ]
  },
  {
   "cell_type": "markdown",
   "metadata": {},
   "source": [
    "<font color='dd0000'>格雷厄姆算法(Graham algorithm)</font>"
   ]
  },
  {
   "cell_type": "markdown",
   "metadata": {},
   "source": [
    "![](graham.png)"
   ]
  }
 ],
 "metadata": {
  "kernelspec": {
   "display_name": "Java",
   "language": "java",
   "name": "java"
  },
  "language_info": {
   "codemirror_mode": "java",
   "file_extension": ".jshell",
   "mimetype": "text/x-java-source",
   "name": "Java",
   "pygments_lexer": "java",
   "version": "12.0.2+10"
  }
 },
 "nbformat": 4,
 "nbformat_minor": 2
}
